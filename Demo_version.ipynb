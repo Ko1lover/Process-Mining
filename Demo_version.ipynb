{
 "cells": [
  {
   "attachments": {},
   "cell_type": "markdown",
   "metadata": {},
   "source": [
    "# Demo version of the process mining"
   ]
  },
  {
   "attachments": {},
   "cell_type": "markdown",
   "metadata": {},
   "source": [
    "### Library importing"
   ]
  },
  {
   "cell_type": "code",
   "execution_count": 4,
   "metadata": {},
   "outputs": [],
   "source": [
    "import time\n",
    "start_time = time.time()"
   ]
  },
  {
   "cell_type": "code",
   "execution_count": 5,
   "metadata": {},
   "outputs": [],
   "source": [
    "from Split_functions import *"
   ]
  },
  {
   "cell_type": "code",
   "execution_count": 6,
   "metadata": {},
   "outputs": [],
   "source": [
    "from hyperopt import hp, tpe, Trials, fmin, space_eval, STATUS_OK\n",
    "\n",
    "from sklearn.ensemble import RandomForestClassifier, RandomForestRegressor\n",
    "from sklearn.preprocessing import LabelEncoder\n",
    "from sklearn.metrics import mean_absolute_error\n",
    "\n",
    "import pandas as pd\n",
    "import numpy as np\n",
    "\n",
    "import pm4py as pm4\n",
    "\n",
    "import plotly.express as px\n",
    "import pickle"
   ]
  },
  {
   "attachments": {},
   "cell_type": "markdown",
   "metadata": {},
   "source": [
    "### Data loading"
   ]
  },
  {
   "cell_type": "code",
   "execution_count": 7,
   "metadata": {},
   "outputs": [],
   "source": [
    "df = pd.read_csv('cleaned_data.csv')\n",
    "df = df[:10000]"
   ]
  },
  {
   "attachments": {},
   "cell_type": "markdown",
   "metadata": {},
   "source": [
    "### Feature engineering"
   ]
  },
  {
   "attachments": {},
   "cell_type": "markdown",
   "metadata": {},
   "source": [
    "#### For event prediction"
   ]
  },
  {
   "cell_type": "code",
   "execution_count": 11,
   "metadata": {},
   "outputs": [],
   "source": [
    "df['time:timestamp'] = pd.to_datetime(df['time:timestamp'], format = 'mixed')\n",
    "df['hour'] = df['time:timestamp'].dt.hour\n",
    "df['day'] = df['time:timestamp'].dt.day\n",
    "df['month'] = df['time:timestamp'].dt.month\n",
    "df['weekday'] = df['time:timestamp'].dt.strftime(\"%A\")\n",
    "df['is_holiday'] = 0"
   ]
  },
  {
   "cell_type": "code",
   "execution_count": 12,
   "metadata": {},
   "outputs": [],
   "source": [
    "work_hours = df.groupby('hour').count()\n",
    "work_hours['percentage'] = work_hours['concept:name'].apply(lambda x : x/sum(work_hours['concept:name'])*100)\n",
    "work_hours_list = work_hours[work_hours['percentage']>1].reset_index()['hour'].to_list()"
   ]
  },
  {
   "cell_type": "code",
   "execution_count": 13,
   "metadata": {},
   "outputs": [],
   "source": [
    "# Determining if it is the working hours or not\n",
    "df['work_hour'] = df['hour'].apply(lambda x: 1 if x in(work_hours_list) else 0)"
   ]
  },
  {
   "cell_type": "code",
   "execution_count": 14,
   "metadata": {},
   "outputs": [],
   "source": [
    "# Typical weekends\n",
    "df.loc[(df['weekday'] == 'Sunday') | (df['weekday'] == 'Saturday'), 'is_holiday'] = 1\n",
    "\n",
    "# New Year's Day\n",
    "df.loc[(df['day'] == 1) & (df['month'] == 1), 'is_holiday'] = 1\n",
    "\n",
    "# Christmas Day \n",
    "df.loc[((df['day'].isin([i for i in range(22, 27)]))) & (df['month'] == 1), 'is_holiday'] = 1\n",
    "\n",
    "# Good Friday, Easter \n",
    "df.loc[(df['day'].isin([i for i in range(6,10)])) & (df['month'] == 4), 'is_holiday'] = 1\n",
    "\n",
    "# King's day (27 April)\n",
    "df.loc[(df['day'] == 27) & (df['month'] == 4), 'is_holiday'] = 1\n",
    "\n",
    "# Liberation Day\n",
    "df.loc[(df['day'] == 5) & (df['month'] == 5), 'is_holiday'] = 1\n",
    "\n",
    "# Ascension Day \n",
    "df.loc[(df['day'].isin([i for i in range(17, 21)])) & (df['month'] == 5), 'is_holiday'] = 1\n",
    "\n",
    "# Pentecost\n",
    "df.loc[(df['day'].isin([i for i in range(26, 29)])) & (df['month'] == 5), 'is_holiday'] = 1"
   ]
  },
  {
   "cell_type": "code",
   "execution_count": 15,
   "metadata": {},
   "outputs": [],
   "source": [
    "df['current_time_delta'] = df.groupby('case:concept:name')['time:timestamp'].diff(-1).dt.total_seconds().abs()\n",
    "df['logged_current_time_delta'] = np.log(df['current_time_delta'] + 1)"
   ]
  },
  {
   "cell_type": "code",
   "execution_count": 16,
   "metadata": {},
   "outputs": [],
   "source": [
    "df['next_activity_time'] = df.groupby('case:concept:name')['logged_current_time_delta'].shift(-1)\n",
    "df['lag1'] = df.groupby('case:concept:name')['logged_current_time_delta'].shift(1)\n",
    "df['lag2'] = df.groupby('case:concept:name')['logged_current_time_delta'].shift(2)\n",
    "df['lag3'] = df.groupby('case:concept:name')['logged_current_time_delta'].shift(3)\n",
    "df['lag4'] = df.groupby('case:concept:name')['logged_current_time_delta'].shift(4)\n",
    "df['lag5'] = df.groupby('case:concept:name')['logged_current_time_delta'].shift(5)\n",
    "\n",
    "\n",
    "df = df.fillna(1e-6)\n",
    "\n",
    "df['next_activity'] = df.groupby('case:concept:name')['concept:name'].shift(-1)\n",
    "df['previous_activity1'] = df.groupby('case:concept:name')['concept:name'].shift(1)\n",
    "df['previous_activity2'] = df.groupby('case:concept:name')['concept:name'].shift(2)\n",
    "df['previous_activity3'] = df.groupby('case:concept:name')['concept:name'].shift(3)\n",
    "df['previous_activity4'] = df.groupby('case:concept:name')['concept:name'].shift(4)\n",
    "df['previous_activity5'] = df.groupby('case:concept:name')['concept:name'].shift(5)\n",
    "\n",
    "\n",
    "le = LabelEncoder()\n",
    "df['next_activity_encoded'] = le.fit_transform(df['next_activity'])\n",
    "df['current_activity_encoded'] = le.fit_transform(df['concept:name'])\n",
    "df['previous_activity1_encoded'] = le.fit_transform(df['previous_activity1'])\n",
    "df['previous_activity2_encoded'] = le.fit_transform(df['previous_activity2'])\n",
    "df['previous_activity3_encoded'] = le.fit_transform(df['previous_activity3'])\n",
    "df['previous_activity4_encoded'] = le.fit_transform(df['previous_activity4'])\n",
    "df['previous_activity5_encoded'] = le.fit_transform(df['previous_activity5'])"
   ]
  },
  {
   "cell_type": "code",
   "execution_count": 17,
   "metadata": {},
   "outputs": [
    {
     "name": "stdout",
     "output_type": "stream",
     "text": [
      "+----------------------------------------------------------------+\n",
      "After cleaning traces!\n",
      "Training dataset max time: 2011-10-10 12:23:58.549000+00:00\n",
      "Testing dataset min time: 2011-10-10 12:25:15.419000+00:00\n",
      "+----------------------------------------------------------------+\n"
     ]
    }
   ],
   "source": [
    "predictor = df[['current_activity_encoded', \n",
    "                'previous_activity1_encoded', \n",
    "                'previous_activity2_encoded', \n",
    "                'previous_activity3_encoded',\n",
    "                'previous_activity4_encoded',\n",
    "                'previous_activity5_encoded',\n",
    "                'case:concept:name', \n",
    "                'time:timestamp']]\n",
    "target = df[['next_activity_encoded', 'case:concept:name', 'time:timestamp']]\n",
    "train_size = 0.8\n",
    "\n",
    "X, X_test, y, y_test = data_split(predictor, target, train_size)\n",
    "\n",
    "print('+----------------------------------------------------------------+')\n",
    "print('After cleaning traces!')\n",
    "print('Training dataset max time:',X['time:timestamp'].max())\n",
    "print('Testing dataset min time:', X_test['time:timestamp'].min())\n",
    "print('+----------------------------------------------------------------+')"
   ]
  },
  {
   "cell_type": "code",
   "execution_count": 18,
   "metadata": {},
   "outputs": [],
   "source": [
    "X_features = ['current_activity_encoded', \n",
    "       'previous_activity1_encoded', \n",
    "       'previous_activity2_encoded', \n",
    "       'previous_activity3_encoded',\n",
    "       'previous_activity4_encoded',\n",
    "       'previous_activity5_encoded',\n",
    "       'case:concept:name']\n",
    "y_features = ['next_activity_encoded',\n",
    "              'case:concept:name']"
   ]
  },
  {
   "cell_type": "code",
   "execution_count": 19,
   "metadata": {},
   "outputs": [],
   "source": [
    "X = X[X_features]\n",
    "X_test = X_test[X_features]\n",
    "y = y[y_features]\n",
    "y_test = y_test[y_features]"
   ]
  },
  {
   "cell_type": "code",
   "execution_count": 20,
   "metadata": {},
   "outputs": [],
   "source": [
    "X = X.reset_index(drop = True)\n",
    "y = y.reset_index(drop = True)"
   ]
  },
  {
   "cell_type": "code",
   "execution_count": 21,
   "metadata": {},
   "outputs": [
    {
     "name": "stdout",
     "output_type": "stream",
     "text": [
      " 10%|█         | 1/10 [00:00<00:00,  9.37trial/s, best loss: -0.8203592814371258]"
     ]
    },
    {
     "name": "stdout",
     "output_type": "stream",
     "text": [
      "100%|██████████| 10/10 [00:00<00:00, 10.93trial/s, best loss: -0.8203592814371258]\n",
      "100%|██████████| 10/10 [00:00<00:00, 14.51trial/s, best loss: -0.7976190476190477]\n",
      "100%|██████████| 10/10 [00:00<00:00, 12.72trial/s, best loss: -0.8095238095238095]\n",
      "100%|██████████| 10/10 [00:00<00:00, 12.30trial/s, best loss: -0.7619047619047619]\n",
      "100%|██████████| 10/10 [00:00<00:00, 13.82trial/s, best loss: -0.8333333333333334]\n",
      "100%|██████████| 10/10 [00:00<00:00, 20.04trial/s, best loss: -0.7440476190476191]\n",
      "100%|██████████| 10/10 [00:00<00:00, 17.60trial/s, best loss: -0.7321428571428571]\n",
      "100%|██████████| 10/10 [00:00<00:00, 17.51trial/s, best loss: -0.6666666666666666]\n",
      "100%|██████████| 10/10 [00:00<00:00, 15.80trial/s, best loss: -0.8333333333333334]\n",
      "100%|██████████| 10/10 [00:00<00:00, 16.60trial/s, best loss: -0.6428571428571429]\n",
      "Best Parameters:\n",
      "{'max_depth': 22, 'min_samples_leaf': 8, 'min_samples_split': 2, 'n_estimators': 90}\n",
      "{'max_depth': 16, 'min_samples_leaf': 2, 'min_samples_split': 10, 'n_estimators': 50}\n",
      "{'max_depth': 15, 'min_samples_leaf': 1, 'min_samples_split': 2, 'n_estimators': 80}\n",
      "{'max_depth': 16, 'min_samples_leaf': 1, 'min_samples_split': 2, 'n_estimators': 96}\n",
      "{'max_depth': 23, 'min_samples_leaf': 8, 'min_samples_split': 5, 'n_estimators': 14}\n",
      "{'max_depth': 15, 'min_samples_leaf': 1, 'min_samples_split': 5, 'n_estimators': 66}\n",
      "{'max_depth': 13, 'min_samples_leaf': 4, 'min_samples_split': 2, 'n_estimators': 14}\n",
      "{'max_depth': 15, 'min_samples_leaf': 1, 'min_samples_split': 2, 'n_estimators': 91}\n",
      "{'max_depth': 22, 'min_samples_leaf': 6, 'min_samples_split': 5, 'n_estimators': 11}\n",
      "{'max_depth': 17, 'min_samples_leaf': 1, 'min_samples_split': 2, 'n_estimators': 27}\n",
      "Average Score: 0.7641787852865697\n"
     ]
    }
   ],
   "source": [
    "# Define the search space for hyperparameters\n",
    "space = {\n",
    "    'n_estimators': hp.choice('n_estimators', [int(x) for x in np.linspace(start = 5, stop = 100, num = 60)]),\n",
    "    'max_depth': hp.choice('max_depth', [5, 6, 7, 9, 10, 12, 13, 15, 16, 17, 19, 20, 22, 23, 25]),\n",
    "    'min_samples_split': hp.choice('min_samples_split', [2, 5, 10]),\n",
    "    'min_samples_leaf': hp.choice('min_samples_leaf', [1, 2, 4, 6, 8])\n",
    "}\n",
    "\n",
    "# Initialize variables to store results\n",
    "best_params_rc_list = []\n",
    "best_scores_list = []\n",
    "\n",
    "n = 10\n",
    "\n",
    "start = 0\n",
    "end = len(X)\n",
    "step_size = end//n\n",
    "\n",
    "train_start = 0 \n",
    "train_end = end - step_size\n",
    "\n",
    "test_start = train_end\n",
    "test_end = end\n",
    "\n",
    "for i in range(n):\n",
    "    if train_start == test_start:\n",
    "        train_x = X.loc[test_end+1:]\n",
    "        train_y = y.loc[test_end+1:]\n",
    "\n",
    "        test_x = X.loc[test_start:test_end]\n",
    "        test_y = y.loc[test_start:test_end]\n",
    "\n",
    "    else:\n",
    "        if test_end + 1 >= len(X):\n",
    "            train_x = X.loc[train_start:train_end-1]\n",
    "            train_y = y.loc[train_start:train_end-1]\n",
    "        else:\n",
    "            train_x = pd.concat([X.loc[train_start:train_end-1], X.loc[test_end+1:]])\n",
    "            train_y = pd.concat([y.loc[train_start:train_end-1], y.loc[test_end+1:]])\n",
    "\n",
    "        test_x = X.loc[test_start:test_end]\n",
    "        test_y = y.loc[test_start:test_end]\n",
    "    \n",
    "    overlapping_sets = list(set(train_x['case:concept:name'].unique()).intersection(set(test_x['case:concept:name'].unique())))\n",
    "    # # Clean train\n",
    "    X_train = train_x[train_x['case:concept:name'].isin([overlapping_sets]) == False]\n",
    "    y_train = train_y[train_y['case:concept:name'].isin(train_x['case:concept:name'].unique())]\n",
    "    \n",
    "    # # Clean test\n",
    "    X_validation = test_x[test_x['case:concept:name'].isin([overlapping_sets]) == False]\n",
    "    y_validation = test_y[test_y['case:concept:name'].isin(test_x['case:concept:name'].unique())]\n",
    "\n",
    "    # # Finalizing the data\n",
    "    X_train = X_train[X_features[:-1]].values\n",
    "    X_validation = X_validation[X_features[:-1]].values\n",
    "    y_train = y_train[y_features[0]].values\n",
    "    y_validation = y_validation[y_features[0]].values\n",
    "    \n",
    "\n",
    "    # Define a function to optimize using Hyperopt\n",
    "    def objective(params):\n",
    "        rfc = RandomForestClassifier(**params, n_jobs = -1)\n",
    "        rfc.fit(X_train, np.ravel(y_train))\n",
    "        score = rfc.score(X_validation, y_validation)\n",
    "        return {'loss': -score, 'status': STATUS_OK}\n",
    "    \n",
    "    # Define Trials object to store optimization results\n",
    "    trials = Trials()\n",
    "    \n",
    "    # Use Hyperopt to find the best hyperparameters\n",
    "    best = fmin(objective, space, algo=tpe.suggest, max_evals=10, trials=trials, return_argmin=False)\n",
    "    \n",
    "    # Store the best parameters and corresponding score\n",
    "    best_params_rc_list.append(best)\n",
    "    best_scores_list.append(-trials.best_trial['result']['loss'])  # Convert back to positive\n",
    "    \n",
    "    \n",
    "    test_end = test_start\n",
    "    train_end -= step_size\n",
    "    test_start = train_end\n",
    "\n",
    "#Print the best parameters and average score across all outer folds\n",
    "print(\"Best Parameters:\")\n",
    "for params in best_params_rc_list:\n",
    "    print(params)\n",
    "print(\"Average Score:\", np.mean(best_scores_list))"
   ]
  },
  {
   "cell_type": "code",
   "execution_count": 22,
   "metadata": {},
   "outputs": [
    {
     "name": "stdout",
     "output_type": "stream",
     "text": [
      "0.3595\n",
      "0.4955\n",
      "0.5365\n",
      "0.535\n",
      "0.3755\n",
      "0.537\n",
      "0.458\n",
      "0.5325\n",
      "0.423\n",
      "0.536\n"
     ]
    }
   ],
   "source": [
    "count = 1\n",
    "for i in best_params_rc_list:\n",
    "    model = RandomForestClassifier(**i)\n",
    "\n",
    "    model.fit(X[X_features[:-1]].values, np.ravel(y[y_features[0]].values))\n",
    "    print(model.score(X_test[X_features[:-1]].values, y_test[y_features[0]].values))\n",
    "    \n",
    "    pickle.dump(model , open(f'next_activity_prediction_rfc_{count}.pk1' , 'wb'))\n",
    "    count+=1"
   ]
  },
  {
   "attachments": {},
   "cell_type": "markdown",
   "metadata": {},
   "source": [
    "#### For time prediciton"
   ]
  },
  {
   "cell_type": "code",
   "execution_count": 23,
   "metadata": {},
   "outputs": [
    {
     "name": "stdout",
     "output_type": "stream",
     "text": [
      "+----------------------------------------------------------------+\n",
      "After cleaning traces!\n",
      "Training dataset max time: 2011-10-10 12:23:58.549000+00:00\n",
      "Testing dataset min time: 2011-10-10 12:25:15.419000+00:00\n",
      "+----------------------------------------------------------------+\n"
     ]
    }
   ],
   "source": [
    "predictor = df[['logged_current_time_delta', \n",
    "                'current_activity_encoded', 'previous_activity1_encoded', 'previous_activity2_encoded', \n",
    "                'previous_activity3_encoded', 'previous_activity4_encoded', 'previous_activity5_encoded',\n",
    "                'lag1', 'lag2', 'lag3', 'lag4', 'lag5',\n",
    "                'work_hour', 'is_holiday', 'month', 'case:concept:name', 'time:timestamp']]\n",
    "target = df[['next_activity_time', 'case:concept:name', 'time:timestamp']]\n",
    "train_size = 0.8\n",
    "\n",
    "X, X_test, y, y_test = data_split(predictor, target, train_size)\n",
    "\n",
    "print('+----------------------------------------------------------------+')\n",
    "print('After cleaning traces!')\n",
    "print('Training dataset max time:',X['time:timestamp'].max())\n",
    "print('Testing dataset min time:', X_test['time:timestamp'].min())\n",
    "print('+----------------------------------------------------------------+')"
   ]
  },
  {
   "cell_type": "code",
   "execution_count": 24,
   "metadata": {},
   "outputs": [],
   "source": [
    "X_features = ['logged_current_time_delta', \n",
    "                'current_activity_encoded', 'previous_activity1_encoded', 'previous_activity2_encoded', \n",
    "                'previous_activity3_encoded', 'previous_activity4_encoded', 'previous_activity5_encoded',\n",
    "                'lag1', 'lag2', 'lag3', 'lag4', 'lag5',\n",
    "                'work_hour', 'is_holiday', 'month', 'case:concept:name']\n",
    "\n",
    "y_features = ['next_activity_time', 'case:concept:name']"
   ]
  },
  {
   "cell_type": "code",
   "execution_count": 25,
   "metadata": {},
   "outputs": [],
   "source": [
    "X_features_to_train = ['logged_current_time_delta', \n",
    "                'current_activity_encoded', 'previous_activity1_encoded', 'previous_activity2_encoded', \n",
    "                'previous_activity3_encoded', 'previous_activity4_encoded', 'previous_activity5_encoded',\n",
    "                'lag1', 'lag2', 'lag3', 'lag4', 'lag5',\n",
    "                'work_hour', 'is_holiday', 'month']\n",
    "\n",
    "y_features_to_train = ['next_activity_time']"
   ]
  },
  {
   "cell_type": "code",
   "execution_count": 26,
   "metadata": {},
   "outputs": [],
   "source": [
    "X = X[X_features]\n",
    "X_test = X_test[X_features]\n",
    "y = y[y_features]\n",
    "y_test = y_test[y_features]"
   ]
  },
  {
   "cell_type": "code",
   "execution_count": 27,
   "metadata": {},
   "outputs": [],
   "source": [
    "X = X.reset_index(drop = True)\n",
    "y = y.reset_index(drop = True)"
   ]
  },
  {
   "cell_type": "code",
   "execution_count": 28,
   "metadata": {},
   "outputs": [
    {
     "name": "stdout",
     "output_type": "stream",
     "text": [
      "  0%|          | 0/10 [00:00<?, ?trial/s, best loss=?]"
     ]
    },
    {
     "name": "stdout",
     "output_type": "stream",
     "text": [
      "100%|██████████| 10/10 [00:00<00:00, 12.65trial/s, best loss: -0.5692313549284785]\n",
      "100%|██████████| 10/10 [00:00<00:00, 14.75trial/s, best loss: -0.49294145897107977]\n",
      "100%|██████████| 10/10 [00:00<00:00, 17.50trial/s, best loss: -0.5762346617810418]\n",
      "100%|██████████| 10/10 [00:00<00:00, 19.01trial/s, best loss: -0.5130537482788584]\n",
      "100%|██████████| 10/10 [00:00<00:00, 13.88trial/s, best loss: -0.5037462478687923]\n",
      "100%|██████████| 10/10 [00:00<00:00, 21.57trial/s, best loss: -0.43756360132395544]\n",
      "100%|██████████| 10/10 [00:00<00:00, 12.17trial/s, best loss: -0.6680090863689387]\n",
      "100%|██████████| 10/10 [00:00<00:00, 12.81trial/s, best loss: -0.551741835858802]\n",
      "100%|██████████| 10/10 [00:00<00:00, 12.11trial/s, best loss: -0.565069222294253]\n",
      "100%|██████████| 10/10 [00:00<00:00, 15.26trial/s, best loss: -0.3428733203584219]\n",
      "Best Parameters:\n",
      "{'max_depth': 10, 'min_samples_leaf': 6, 'min_samples_split': 10, 'n_estimators': 50}\n",
      "{'max_depth': 6, 'min_samples_leaf': 6, 'min_samples_split': 5, 'n_estimators': 59}\n",
      "{'max_depth': 20, 'min_samples_leaf': 6, 'min_samples_split': 5, 'n_estimators': 38}\n",
      "{'max_depth': 20, 'min_samples_leaf': 6, 'min_samples_split': 2, 'n_estimators': 37}\n",
      "{'max_depth': 9, 'min_samples_leaf': 8, 'min_samples_split': 5, 'n_estimators': 82}\n",
      "{'max_depth': 6, 'min_samples_leaf': 4, 'min_samples_split': 2, 'n_estimators': 13}\n",
      "{'max_depth': 6, 'min_samples_leaf': 4, 'min_samples_split': 5, 'n_estimators': 66}\n",
      "{'max_depth': 5, 'min_samples_leaf': 8, 'min_samples_split': 10, 'n_estimators': 46}\n",
      "{'max_depth': 6, 'min_samples_leaf': 2, 'min_samples_split': 5, 'n_estimators': 88}\n",
      "{'max_depth': 16, 'min_samples_leaf': 8, 'min_samples_split': 2, 'n_estimators': 38}\n",
      "Average Score: 0.5220464538032621\n"
     ]
    }
   ],
   "source": [
    "# Define the search space for hyperparameters\n",
    "space = {\n",
    "    'n_estimators': hp.choice('n_estimators', [int(x) for x in np.linspace(start = 5, stop = 100, num = 60)]),\n",
    "    'max_depth': hp.choice('max_depth', [5, 6, 7, 9, 10, 12, 13, 15, 16, 17, 19, 20, 22, 23, 25]),\n",
    "    'min_samples_split': hp.choice('min_samples_split', [2, 5, 10]),\n",
    "    'min_samples_leaf': hp.choice('min_samples_leaf', [2, 4, 6, 8])\n",
    "}\n",
    "\n",
    "# Initialize variables to store results\n",
    "best_params_rfr_list = []\n",
    "best_scores_list = []\n",
    "\n",
    "n = 10\n",
    "\n",
    "start = 0\n",
    "end = len(X)\n",
    "step_size = end//n\n",
    "\n",
    "train_start = 0 \n",
    "train_end = end - step_size\n",
    "\n",
    "test_start = train_end\n",
    "test_end = end\n",
    "\n",
    "for i in range(n):\n",
    "    if train_start == test_start:\n",
    "        train_x = X.loc[test_end+1:]\n",
    "        train_y = y.loc[test_end+1:]\n",
    "\n",
    "        test_x = X.loc[test_start:test_end]\n",
    "        test_y = y.loc[test_start:test_end]\n",
    "\n",
    "    else:\n",
    "        if test_end + 1 >= len(X):\n",
    "            train_x = X.loc[train_start:train_end-1]\n",
    "            train_y = y.loc[train_start:train_end-1]\n",
    "        else:\n",
    "            train_x = pd.concat([X.loc[train_start:train_end-1], X.loc[test_end+1:]])\n",
    "            train_y = pd.concat([y.loc[train_start:train_end-1], y.loc[test_end+1:]])\n",
    "\n",
    "        test_x = X.loc[test_start:test_end]\n",
    "        test_y = y.loc[test_start:test_end]\n",
    "    \n",
    "    overlapping_sets = list(set(train_x['case:concept:name'].unique()).intersection(set(test_x['case:concept:name'].unique())))\n",
    "    # # Clean train\n",
    "    X_train = train_x[train_x['case:concept:name'].isin([overlapping_sets]) == False]\n",
    "    y_train = train_y[train_y['case:concept:name'].isin(train_x['case:concept:name'].unique())]\n",
    "    \n",
    "    # # Clean test\n",
    "    X_validation = test_x[test_x['case:concept:name'].isin([overlapping_sets]) == False]\n",
    "    y_validation = test_y[test_y['case:concept:name'].isin(test_x['case:concept:name'].unique())]\n",
    "\n",
    "    # # Finalizing the data\n",
    "    X_train = X_train[X_features[:-1]].values\n",
    "    X_validation = X_validation[X_features[:-1]].values\n",
    "    y_train = y_train[y_features[0]].values\n",
    "    y_validation = y_validation[y_features[0]].values\n",
    "    \n",
    "    # Define a function to optimize using Hyperopt\n",
    "    def objective(params):\n",
    "        xgb = RandomForestRegressor(**params, n_jobs = -1)\n",
    "        xgb.fit(X_train, np.ravel(y_train))\n",
    "        score = xgb.score(X_validation, y_validation)\n",
    "        return {'loss': -score, 'status': STATUS_OK}\n",
    "    \n",
    "    # Define Trials object to store optimization results\n",
    "    trials = Trials()\n",
    "    \n",
    "    # Use Hyperopt to find the best hyperparameters\n",
    "    best = fmin(objective, space, algo=tpe.suggest, max_evals=10, trials=trials, return_argmin=False)\n",
    "    \n",
    "    # Store the best parameters and corresponding score\n",
    "    best_params_rfr_list.append(best)\n",
    "    best_scores_list.append(-trials.best_trial['result']['loss'])  # Convert back to positive\n",
    "    \n",
    "    \n",
    "    test_end = test_start\n",
    "    train_end -= step_size\n",
    "    test_start = train_end\n",
    "\n",
    "#Print the best parameters and average score across all outer folds\n",
    "print(\"Best Parameters:\")\n",
    "for params in best_params_rfr_list:\n",
    "    print(params)\n",
    "print(\"Average Score:\", np.mean(best_scores_list))"
   ]
  },
  {
   "cell_type": "code",
   "execution_count": 29,
   "metadata": {},
   "outputs": [
    {
     "name": "stdout",
     "output_type": "stream",
     "text": [
      "0.32694435922667764\n",
      "MAE: 15.652\n",
      "0.3359182016852431\n",
      "MAE: 15.657\n",
      "0.334214563762553\n",
      "MAE: 15.652\n",
      "0.34028505000245546\n",
      "MAE: 15.649\n",
      "0.3329213491728267\n",
      "MAE: 15.655\n",
      "0.31764739410506715\n",
      "MAE: 15.653\n",
      "0.326288543949686\n",
      "MAE: 15.658\n",
      "0.33392829916365896\n",
      "MAE: 15.658\n",
      "0.340935354425964\n",
      "MAE: 15.655\n",
      "0.3214849264830396\n",
      "MAE: 15.657\n"
     ]
    }
   ],
   "source": [
    "count = 1\n",
    "for i in best_params_rfr_list:\n",
    "    model = RandomForestRegressor(**i)\n",
    "\n",
    "    model.fit(X[X_features_to_train].values, np.ravel(y[y_features_to_train].values))\n",
    "    print(model.score(X_test[X_features_to_train].values, y_test[y_features_to_train].values))\n",
    "    print(f'MAE: {round(mean_absolute_error(np.exp(y_test[y_features_to_train].values), np.exp(model.predict(X_test[X_features_to_train].values)))/3600,3)}')\n",
    "    \n",
    "    pickle.dump(model , open(f'next_activity_time_prediction_rfr_{count}.pk1' , 'wb'))\n",
    "    count+=1"
   ]
  },
  {
   "attachments": {},
   "cell_type": "markdown",
   "metadata": {},
   "source": [
    "## The whole trace prediction"
   ]
  },
  {
   "cell_type": "code",
   "execution_count": 30,
   "metadata": {},
   "outputs": [],
   "source": [
    "predictor = df[['logged_current_time_delta', \n",
    "                'current_activity_encoded',\n",
    "                'previous_activity1_encoded',\n",
    "                'previous_activity2_encoded', \n",
    "                'previous_activity3_encoded', \n",
    "                'previous_activity4_encoded', \n",
    "                'previous_activity5_encoded',\n",
    "                'lag1', \n",
    "                'lag2', \n",
    "                'lag3', \n",
    "                'lag4', \n",
    "                'lag5',\n",
    "                'work_hour',\n",
    "                'is_holiday', \n",
    "                'month',\n",
    "                'case:concept:name', \n",
    "                'time:timestamp']]\n",
    "\n",
    "target = df[['next_activity_encoded', \n",
    "             'next_activity_time',\n",
    "             'case:concept:name', \n",
    "             'time:timestamp']]\n",
    "train_size = 0.8\n",
    "\n",
    "X, X_test, y, y_test = data_split(predictor, target, train_size)"
   ]
  },
  {
   "cell_type": "code",
   "execution_count": 31,
   "metadata": {},
   "outputs": [],
   "source": [
    "X_features_time = ['case:concept:name',\n",
    "                   'current_activity_encoded', \n",
    "                   'previous_activity1_encoded', \n",
    "                   'previous_activity2_encoded', \n",
    "                   'previous_activity3_encoded', \n",
    "                   'previous_activity4_encoded', \n",
    "                   'previous_activity5_encoded',\n",
    "                   'logged_current_time_delta',\n",
    "                   'lag1', \n",
    "                   'lag2', \n",
    "                   'lag3', \n",
    "                   'lag4', \n",
    "                   'lag5',\n",
    "                   'work_hour', \n",
    "                   'is_holiday', \n",
    "                   'month']\n",
    "y_features_time = ['case:concept:name', 'next_activity_encoded', 'next_activity_time']"
   ]
  },
  {
   "cell_type": "code",
   "execution_count": 32,
   "metadata": {},
   "outputs": [],
   "source": [
    "X_features_event = ['case:concept:name', \n",
    "                    'current_activity_encoded', \n",
    "                    'previous_activity1_encoded', \n",
    "                    'previous_activity2_encoded', \n",
    "                    'previous_activity3_encoded',\n",
    "                    'previous_activity4_encoded',\n",
    "                    'previous_activity5_encoded']\n",
    "y_features_event = ['case:concept:name', 'next_activity_encoded']"
   ]
  },
  {
   "cell_type": "code",
   "execution_count": 33,
   "metadata": {},
   "outputs": [],
   "source": [
    "X = X[X_features_time]\n",
    "X_test = X_test[X_features_time]\n",
    "y = y[y_features_time]\n",
    "y_test = y_test[y_features_time]"
   ]
  },
  {
   "cell_type": "code",
   "execution_count": 34,
   "metadata": {},
   "outputs": [],
   "source": [
    "from Split_functions import import_models"
   ]
  },
  {
   "cell_type": "code",
   "execution_count": 35,
   "metadata": {},
   "outputs": [],
   "source": [
    "event_models = import_models('next_activity_prediction_rfc', n)"
   ]
  },
  {
   "cell_type": "code",
   "execution_count": 36,
   "metadata": {},
   "outputs": [],
   "source": [
    "time_models = import_models('next_activity_time_prediction_rfr',n)"
   ]
  },
  {
   "cell_type": "code",
   "execution_count": 37,
   "metadata": {},
   "outputs": [],
   "source": [
    "models_event_scores = {}\n",
    "models_time_scores = {}"
   ]
  },
  {
   "cell_type": "code",
   "execution_count": 38,
   "metadata": {},
   "outputs": [
    {
     "name": "stdout",
     "output_type": "stream",
     "text": [
      "Average predicted event sequence accuracy: 43.69%\n",
      "Average predicted event sequence accuracy: 40.32%\n",
      "Average predicted event sequence accuracy: 43.2%\n",
      "Average predicted event sequence accuracy: 40.41%\n",
      "Average predicted event sequence accuracy: 43.2%\n",
      "Average predicted event sequence accuracy: 41.22%\n",
      "Average predicted event sequence accuracy: 43.07%\n",
      "Average predicted event sequence accuracy: 41.33%\n",
      "Average predicted event sequence accuracy: 44.59%\n",
      "Average predicted event sequence accuracy: 40.02%\n"
     ]
    }
   ],
   "source": [
    "models_event_scores = test_event_models_for_trace_pred(event_models, X_test, y_test, X_features_event, y_features_event)"
   ]
  },
  {
   "cell_type": "code",
   "execution_count": 39,
   "metadata": {},
   "outputs": [],
   "source": [
    "sorted_event_models = sorted(models_event_scores.items(), key = lambda x: x[1], reverse = True)\n",
    "model_event_short = {f'{sorted_event_models[0][0]}': event_models[sorted_event_models[0][0]]}"
   ]
  },
  {
   "cell_type": "code",
   "execution_count": 40,
   "metadata": {},
   "outputs": [
    {
     "name": "stdout",
     "output_type": "stream",
     "text": [
      "Model for event prediction: next_activity_prediction_rfc_9.pk1\n",
      "Model for time predction: next_activity_time_prediction_rfr_1.pk1\n",
      "Average predicted event sequence accuracy: 44.59%\n",
      "Root mean squared error for time prediction: 33436.931 in seconds, 9.29 in hours\n",
      "Model for time predction: next_activity_time_prediction_rfr_2.pk1\n",
      "Average predicted event sequence accuracy: 44.59%\n",
      "Root mean squared error for time prediction: 33434.821 in seconds, 9.29 in hours\n",
      "Model for time predction: next_activity_time_prediction_rfr_3.pk1\n",
      "Average predicted event sequence accuracy: 44.59%\n",
      "Root mean squared error for time prediction: 33439.32 in seconds, 9.29 in hours\n",
      "Model for time predction: next_activity_time_prediction_rfr_4.pk1\n",
      "Average predicted event sequence accuracy: 44.59%\n",
      "Root mean squared error for time prediction: 33455.664 in seconds, 9.29 in hours\n",
      "Model for time predction: next_activity_time_prediction_rfr_5.pk1\n",
      "Average predicted event sequence accuracy: 44.59%\n",
      "Root mean squared error for time prediction: 33435.046 in seconds, 9.29 in hours\n",
      "Model for time predction: next_activity_time_prediction_rfr_6.pk1\n",
      "Average predicted event sequence accuracy: 44.59%\n",
      "Root mean squared error for time prediction: 33416.737 in seconds, 9.28 in hours\n",
      "Model for time predction: next_activity_time_prediction_rfr_7.pk1\n",
      "Average predicted event sequence accuracy: 44.59%\n",
      "Root mean squared error for time prediction: 33435.605 in seconds, 9.29 in hours\n",
      "Model for time predction: next_activity_time_prediction_rfr_8.pk1\n",
      "Average predicted event sequence accuracy: 44.59%\n",
      "Root mean squared error for time prediction: 33419.782 in seconds, 9.28 in hours\n",
      "Model for time predction: next_activity_time_prediction_rfr_9.pk1\n",
      "Average predicted event sequence accuracy: 44.59%\n",
      "Root mean squared error for time prediction: 33419.474 in seconds, 9.28 in hours\n",
      "Model for time predction: next_activity_time_prediction_rfr_10.pk1\n",
      "Average predicted event sequence accuracy: 44.59%\n",
      "Root mean squared error for time prediction: 33444.927 in seconds, 9.29 in hours\n"
     ]
    }
   ],
   "source": [
    "models_time_scores = test_suffix_with_time_pred(model_event_short, models_time_scores, time_models, event_models, X_test, y_test, X_features_event, X_features_time, y_features_event, y_features_time)"
   ]
  },
  {
   "cell_type": "code",
   "execution_count": 41,
   "metadata": {},
   "outputs": [],
   "source": [
    "models_scores_event_df = pd.DataFrame.from_dict(models_event_scores, orient = 'index')"
   ]
  },
  {
   "cell_type": "code",
   "execution_count": 42,
   "metadata": {},
   "outputs": [],
   "source": [
    "models_scores_time_df = pd.DataFrame.from_dict(models_time_scores, orient = 'index')"
   ]
  },
  {
   "cell_type": "code",
   "execution_count": 43,
   "metadata": {},
   "outputs": [],
   "source": [
    "models_scores_event_df.reset_index(inplace = True)\n",
    "models_scores_event_df.columns = ['model_name', 'accuracy']\n",
    "models_scores_event_df['model_type'] = models_scores_event_df['model_name'].apply(lambda x: 'Random Forest' if x.startswith('next_activity_prediction_rfc') else 'XGBoost')"
   ]
  },
  {
   "cell_type": "code",
   "execution_count": 44,
   "metadata": {},
   "outputs": [],
   "source": [
    "models_scores_time_df.reset_index(inplace = True)\n",
    "models_scores_time_df.columns = ['model_name', 'MAE']\n"
   ]
  },
  {
   "cell_type": "code",
   "execution_count": 45,
   "metadata": {},
   "outputs": [],
   "source": [
    "models_scores_time_df['MAE'] = models_scores_time_df['MAE'].apply(lambda x: x/3600)\n",
    "models_scores_time_df['model_name'] = models_scores_time_df['model_name'].apply(lambda x: x.split('/')[1])"
   ]
  },
  {
   "cell_type": "code",
   "execution_count": 46,
   "metadata": {},
   "outputs": [
    {
     "data": {
      "application/vnd.plotly.v1+json": {
       "config": {
        "plotlyServerURL": "https://plot.ly"
       },
       "data": [
        {
         "hovertemplate": "model_type=Random Forest<br>model_name=%{x}<br>accuracy=%{y}<extra></extra>",
         "legendgroup": "Random Forest",
         "marker": {
          "color": "#636efa",
          "symbol": "circle"
         },
         "mode": "markers",
         "name": "Random Forest",
         "orientation": "v",
         "showlegend": true,
         "type": "scatter",
         "x": [
          "next_activity_prediction_rfc_1.pk1",
          "next_activity_prediction_rfc_2.pk1",
          "next_activity_prediction_rfc_3.pk1",
          "next_activity_prediction_rfc_4.pk1",
          "next_activity_prediction_rfc_5.pk1",
          "next_activity_prediction_rfc_6.pk1",
          "next_activity_prediction_rfc_7.pk1",
          "next_activity_prediction_rfc_8.pk1",
          "next_activity_prediction_rfc_9.pk1",
          "next_activity_prediction_rfc_10.pk1"
         ],
         "xaxis": "x",
         "y": [
          43.69,
          40.32,
          43.2,
          40.41,
          43.2,
          41.22,
          43.07,
          41.33,
          44.59,
          40.02
         ],
         "yaxis": "y"
        }
       ],
       "layout": {
        "height": 500,
        "legend": {
         "title": {
          "text": "model_type"
         },
         "tracegroupgap": 0
        },
        "template": {
         "data": {
          "bar": [
           {
            "error_x": {
             "color": "#2a3f5f"
            },
            "error_y": {
             "color": "#2a3f5f"
            },
            "marker": {
             "line": {
              "color": "#E5ECF6",
              "width": 0.5
             },
             "pattern": {
              "fillmode": "overlay",
              "size": 10,
              "solidity": 0.2
             }
            },
            "type": "bar"
           }
          ],
          "barpolar": [
           {
            "marker": {
             "line": {
              "color": "#E5ECF6",
              "width": 0.5
             },
             "pattern": {
              "fillmode": "overlay",
              "size": 10,
              "solidity": 0.2
             }
            },
            "type": "barpolar"
           }
          ],
          "carpet": [
           {
            "aaxis": {
             "endlinecolor": "#2a3f5f",
             "gridcolor": "white",
             "linecolor": "white",
             "minorgridcolor": "white",
             "startlinecolor": "#2a3f5f"
            },
            "baxis": {
             "endlinecolor": "#2a3f5f",
             "gridcolor": "white",
             "linecolor": "white",
             "minorgridcolor": "white",
             "startlinecolor": "#2a3f5f"
            },
            "type": "carpet"
           }
          ],
          "choropleth": [
           {
            "colorbar": {
             "outlinewidth": 0,
             "ticks": ""
            },
            "type": "choropleth"
           }
          ],
          "contour": [
           {
            "colorbar": {
             "outlinewidth": 0,
             "ticks": ""
            },
            "colorscale": [
             [
              0,
              "#0d0887"
             ],
             [
              0.1111111111111111,
              "#46039f"
             ],
             [
              0.2222222222222222,
              "#7201a8"
             ],
             [
              0.3333333333333333,
              "#9c179e"
             ],
             [
              0.4444444444444444,
              "#bd3786"
             ],
             [
              0.5555555555555556,
              "#d8576b"
             ],
             [
              0.6666666666666666,
              "#ed7953"
             ],
             [
              0.7777777777777778,
              "#fb9f3a"
             ],
             [
              0.8888888888888888,
              "#fdca26"
             ],
             [
              1,
              "#f0f921"
             ]
            ],
            "type": "contour"
           }
          ],
          "contourcarpet": [
           {
            "colorbar": {
             "outlinewidth": 0,
             "ticks": ""
            },
            "type": "contourcarpet"
           }
          ],
          "heatmap": [
           {
            "colorbar": {
             "outlinewidth": 0,
             "ticks": ""
            },
            "colorscale": [
             [
              0,
              "#0d0887"
             ],
             [
              0.1111111111111111,
              "#46039f"
             ],
             [
              0.2222222222222222,
              "#7201a8"
             ],
             [
              0.3333333333333333,
              "#9c179e"
             ],
             [
              0.4444444444444444,
              "#bd3786"
             ],
             [
              0.5555555555555556,
              "#d8576b"
             ],
             [
              0.6666666666666666,
              "#ed7953"
             ],
             [
              0.7777777777777778,
              "#fb9f3a"
             ],
             [
              0.8888888888888888,
              "#fdca26"
             ],
             [
              1,
              "#f0f921"
             ]
            ],
            "type": "heatmap"
           }
          ],
          "heatmapgl": [
           {
            "colorbar": {
             "outlinewidth": 0,
             "ticks": ""
            },
            "colorscale": [
             [
              0,
              "#0d0887"
             ],
             [
              0.1111111111111111,
              "#46039f"
             ],
             [
              0.2222222222222222,
              "#7201a8"
             ],
             [
              0.3333333333333333,
              "#9c179e"
             ],
             [
              0.4444444444444444,
              "#bd3786"
             ],
             [
              0.5555555555555556,
              "#d8576b"
             ],
             [
              0.6666666666666666,
              "#ed7953"
             ],
             [
              0.7777777777777778,
              "#fb9f3a"
             ],
             [
              0.8888888888888888,
              "#fdca26"
             ],
             [
              1,
              "#f0f921"
             ]
            ],
            "type": "heatmapgl"
           }
          ],
          "histogram": [
           {
            "marker": {
             "pattern": {
              "fillmode": "overlay",
              "size": 10,
              "solidity": 0.2
             }
            },
            "type": "histogram"
           }
          ],
          "histogram2d": [
           {
            "colorbar": {
             "outlinewidth": 0,
             "ticks": ""
            },
            "colorscale": [
             [
              0,
              "#0d0887"
             ],
             [
              0.1111111111111111,
              "#46039f"
             ],
             [
              0.2222222222222222,
              "#7201a8"
             ],
             [
              0.3333333333333333,
              "#9c179e"
             ],
             [
              0.4444444444444444,
              "#bd3786"
             ],
             [
              0.5555555555555556,
              "#d8576b"
             ],
             [
              0.6666666666666666,
              "#ed7953"
             ],
             [
              0.7777777777777778,
              "#fb9f3a"
             ],
             [
              0.8888888888888888,
              "#fdca26"
             ],
             [
              1,
              "#f0f921"
             ]
            ],
            "type": "histogram2d"
           }
          ],
          "histogram2dcontour": [
           {
            "colorbar": {
             "outlinewidth": 0,
             "ticks": ""
            },
            "colorscale": [
             [
              0,
              "#0d0887"
             ],
             [
              0.1111111111111111,
              "#46039f"
             ],
             [
              0.2222222222222222,
              "#7201a8"
             ],
             [
              0.3333333333333333,
              "#9c179e"
             ],
             [
              0.4444444444444444,
              "#bd3786"
             ],
             [
              0.5555555555555556,
              "#d8576b"
             ],
             [
              0.6666666666666666,
              "#ed7953"
             ],
             [
              0.7777777777777778,
              "#fb9f3a"
             ],
             [
              0.8888888888888888,
              "#fdca26"
             ],
             [
              1,
              "#f0f921"
             ]
            ],
            "type": "histogram2dcontour"
           }
          ],
          "mesh3d": [
           {
            "colorbar": {
             "outlinewidth": 0,
             "ticks": ""
            },
            "type": "mesh3d"
           }
          ],
          "parcoords": [
           {
            "line": {
             "colorbar": {
              "outlinewidth": 0,
              "ticks": ""
             }
            },
            "type": "parcoords"
           }
          ],
          "pie": [
           {
            "automargin": true,
            "type": "pie"
           }
          ],
          "scatter": [
           {
            "fillpattern": {
             "fillmode": "overlay",
             "size": 10,
             "solidity": 0.2
            },
            "type": "scatter"
           }
          ],
          "scatter3d": [
           {
            "line": {
             "colorbar": {
              "outlinewidth": 0,
              "ticks": ""
             }
            },
            "marker": {
             "colorbar": {
              "outlinewidth": 0,
              "ticks": ""
             }
            },
            "type": "scatter3d"
           }
          ],
          "scattercarpet": [
           {
            "marker": {
             "colorbar": {
              "outlinewidth": 0,
              "ticks": ""
             }
            },
            "type": "scattercarpet"
           }
          ],
          "scattergeo": [
           {
            "marker": {
             "colorbar": {
              "outlinewidth": 0,
              "ticks": ""
             }
            },
            "type": "scattergeo"
           }
          ],
          "scattergl": [
           {
            "marker": {
             "colorbar": {
              "outlinewidth": 0,
              "ticks": ""
             }
            },
            "type": "scattergl"
           }
          ],
          "scattermapbox": [
           {
            "marker": {
             "colorbar": {
              "outlinewidth": 0,
              "ticks": ""
             }
            },
            "type": "scattermapbox"
           }
          ],
          "scatterpolar": [
           {
            "marker": {
             "colorbar": {
              "outlinewidth": 0,
              "ticks": ""
             }
            },
            "type": "scatterpolar"
           }
          ],
          "scatterpolargl": [
           {
            "marker": {
             "colorbar": {
              "outlinewidth": 0,
              "ticks": ""
             }
            },
            "type": "scatterpolargl"
           }
          ],
          "scatterternary": [
           {
            "marker": {
             "colorbar": {
              "outlinewidth": 0,
              "ticks": ""
             }
            },
            "type": "scatterternary"
           }
          ],
          "surface": [
           {
            "colorbar": {
             "outlinewidth": 0,
             "ticks": ""
            },
            "colorscale": [
             [
              0,
              "#0d0887"
             ],
             [
              0.1111111111111111,
              "#46039f"
             ],
             [
              0.2222222222222222,
              "#7201a8"
             ],
             [
              0.3333333333333333,
              "#9c179e"
             ],
             [
              0.4444444444444444,
              "#bd3786"
             ],
             [
              0.5555555555555556,
              "#d8576b"
             ],
             [
              0.6666666666666666,
              "#ed7953"
             ],
             [
              0.7777777777777778,
              "#fb9f3a"
             ],
             [
              0.8888888888888888,
              "#fdca26"
             ],
             [
              1,
              "#f0f921"
             ]
            ],
            "type": "surface"
           }
          ],
          "table": [
           {
            "cells": {
             "fill": {
              "color": "#EBF0F8"
             },
             "line": {
              "color": "white"
             }
            },
            "header": {
             "fill": {
              "color": "#C8D4E3"
             },
             "line": {
              "color": "white"
             }
            },
            "type": "table"
           }
          ]
         },
         "layout": {
          "annotationdefaults": {
           "arrowcolor": "#2a3f5f",
           "arrowhead": 0,
           "arrowwidth": 1
          },
          "autotypenumbers": "strict",
          "coloraxis": {
           "colorbar": {
            "outlinewidth": 0,
            "ticks": ""
           }
          },
          "colorscale": {
           "diverging": [
            [
             0,
             "#8e0152"
            ],
            [
             0.1,
             "#c51b7d"
            ],
            [
             0.2,
             "#de77ae"
            ],
            [
             0.3,
             "#f1b6da"
            ],
            [
             0.4,
             "#fde0ef"
            ],
            [
             0.5,
             "#f7f7f7"
            ],
            [
             0.6,
             "#e6f5d0"
            ],
            [
             0.7,
             "#b8e186"
            ],
            [
             0.8,
             "#7fbc41"
            ],
            [
             0.9,
             "#4d9221"
            ],
            [
             1,
             "#276419"
            ]
           ],
           "sequential": [
            [
             0,
             "#0d0887"
            ],
            [
             0.1111111111111111,
             "#46039f"
            ],
            [
             0.2222222222222222,
             "#7201a8"
            ],
            [
             0.3333333333333333,
             "#9c179e"
            ],
            [
             0.4444444444444444,
             "#bd3786"
            ],
            [
             0.5555555555555556,
             "#d8576b"
            ],
            [
             0.6666666666666666,
             "#ed7953"
            ],
            [
             0.7777777777777778,
             "#fb9f3a"
            ],
            [
             0.8888888888888888,
             "#fdca26"
            ],
            [
             1,
             "#f0f921"
            ]
           ],
           "sequentialminus": [
            [
             0,
             "#0d0887"
            ],
            [
             0.1111111111111111,
             "#46039f"
            ],
            [
             0.2222222222222222,
             "#7201a8"
            ],
            [
             0.3333333333333333,
             "#9c179e"
            ],
            [
             0.4444444444444444,
             "#bd3786"
            ],
            [
             0.5555555555555556,
             "#d8576b"
            ],
            [
             0.6666666666666666,
             "#ed7953"
            ],
            [
             0.7777777777777778,
             "#fb9f3a"
            ],
            [
             0.8888888888888888,
             "#fdca26"
            ],
            [
             1,
             "#f0f921"
            ]
           ]
          },
          "colorway": [
           "#636efa",
           "#EF553B",
           "#00cc96",
           "#ab63fa",
           "#FFA15A",
           "#19d3f3",
           "#FF6692",
           "#B6E880",
           "#FF97FF",
           "#FECB52"
          ],
          "font": {
           "color": "#2a3f5f"
          },
          "geo": {
           "bgcolor": "white",
           "lakecolor": "white",
           "landcolor": "#E5ECF6",
           "showlakes": true,
           "showland": true,
           "subunitcolor": "white"
          },
          "hoverlabel": {
           "align": "left"
          },
          "hovermode": "closest",
          "mapbox": {
           "style": "light"
          },
          "paper_bgcolor": "white",
          "plot_bgcolor": "#E5ECF6",
          "polar": {
           "angularaxis": {
            "gridcolor": "white",
            "linecolor": "white",
            "ticks": ""
           },
           "bgcolor": "#E5ECF6",
           "radialaxis": {
            "gridcolor": "white",
            "linecolor": "white",
            "ticks": ""
           }
          },
          "scene": {
           "xaxis": {
            "backgroundcolor": "#E5ECF6",
            "gridcolor": "white",
            "gridwidth": 2,
            "linecolor": "white",
            "showbackground": true,
            "ticks": "",
            "zerolinecolor": "white"
           },
           "yaxis": {
            "backgroundcolor": "#E5ECF6",
            "gridcolor": "white",
            "gridwidth": 2,
            "linecolor": "white",
            "showbackground": true,
            "ticks": "",
            "zerolinecolor": "white"
           },
           "zaxis": {
            "backgroundcolor": "#E5ECF6",
            "gridcolor": "white",
            "gridwidth": 2,
            "linecolor": "white",
            "showbackground": true,
            "ticks": "",
            "zerolinecolor": "white"
           }
          },
          "shapedefaults": {
           "line": {
            "color": "#2a3f5f"
           }
          },
          "ternary": {
           "aaxis": {
            "gridcolor": "white",
            "linecolor": "white",
            "ticks": ""
           },
           "baxis": {
            "gridcolor": "white",
            "linecolor": "white",
            "ticks": ""
           },
           "bgcolor": "#E5ECF6",
           "caxis": {
            "gridcolor": "white",
            "linecolor": "white",
            "ticks": ""
           }
          },
          "title": {
           "x": 0.05
          },
          "xaxis": {
           "automargin": true,
           "gridcolor": "white",
           "linecolor": "white",
           "ticks": "",
           "title": {
            "standoff": 15
           },
           "zerolinecolor": "white",
           "zerolinewidth": 2
          },
          "yaxis": {
           "automargin": true,
           "gridcolor": "white",
           "linecolor": "white",
           "ticks": "",
           "title": {
            "standoff": 15
           },
           "zerolinecolor": "white",
           "zerolinewidth": 2
          }
         }
        },
        "title": {
         "text": "Visualization of trace prediction models and their accuracy"
        },
        "width": 1000,
        "xaxis": {
         "anchor": "y",
         "domain": [
          0,
          1
         ],
         "title": {
          "text": "model_name"
         }
        },
        "yaxis": {
         "anchor": "x",
         "domain": [
          0,
          1
         ],
         "title": {
          "text": "accuracy"
         }
        }
       }
      }
     },
     "metadata": {},
     "output_type": "display_data"
    }
   ],
   "source": [
    "px.scatter(models_scores_event_df, x = 'model_name', y = 'accuracy', color = 'model_type',\n",
    "           labels = {\n",
    "                      'model': 'Trace prediciton Models',\n",
    "                      'score': 'Accuracy (%)'},\n",
    "                  title = 'Visualization of trace prediction models and their accuracy',\n",
    "                  width=1000,\n",
    "                  height=500)"
   ]
  },
  {
   "cell_type": "code",
   "execution_count": 47,
   "metadata": {},
   "outputs": [
    {
     "data": {
      "application/vnd.plotly.v1+json": {
       "config": {
        "plotlyServerURL": "https://plot.ly"
       },
       "data": [
        {
         "hovertemplate": "Time prediciton models=%{x}<br>Mean Absolute Error (in hours)=%{y}<extra></extra>",
         "legendgroup": "",
         "marker": {
          "color": "#636efa",
          "symbol": "circle"
         },
         "mode": "markers",
         "name": "",
         "orientation": "v",
         "showlegend": false,
         "type": "scatter",
         "x": [
          "next_activity_time_prediction_rfr_1.pk1",
          "next_activity_time_prediction_rfr_2.pk1",
          "next_activity_time_prediction_rfr_3.pk1",
          "next_activity_time_prediction_rfr_4.pk1",
          "next_activity_time_prediction_rfr_5.pk1",
          "next_activity_time_prediction_rfr_6.pk1",
          "next_activity_time_prediction_rfr_7.pk1",
          "next_activity_time_prediction_rfr_8.pk1",
          "next_activity_time_prediction_rfr_9.pk1",
          "next_activity_time_prediction_rfr_10.pk1"
         ],
         "xaxis": "x",
         "y": [
          9.288036388888887,
          9.28745027777778,
          9.2887,
          9.293239999999999,
          9.287512777777778,
          9.282426944444445,
          9.287668055555557,
          9.283272777777778,
          9.283187222222223,
          9.290257500000001
         ],
         "yaxis": "y"
        }
       ],
       "layout": {
        "height": 500,
        "legend": {
         "tracegroupgap": 0
        },
        "template": {
         "data": {
          "bar": [
           {
            "error_x": {
             "color": "#2a3f5f"
            },
            "error_y": {
             "color": "#2a3f5f"
            },
            "marker": {
             "line": {
              "color": "#E5ECF6",
              "width": 0.5
             },
             "pattern": {
              "fillmode": "overlay",
              "size": 10,
              "solidity": 0.2
             }
            },
            "type": "bar"
           }
          ],
          "barpolar": [
           {
            "marker": {
             "line": {
              "color": "#E5ECF6",
              "width": 0.5
             },
             "pattern": {
              "fillmode": "overlay",
              "size": 10,
              "solidity": 0.2
             }
            },
            "type": "barpolar"
           }
          ],
          "carpet": [
           {
            "aaxis": {
             "endlinecolor": "#2a3f5f",
             "gridcolor": "white",
             "linecolor": "white",
             "minorgridcolor": "white",
             "startlinecolor": "#2a3f5f"
            },
            "baxis": {
             "endlinecolor": "#2a3f5f",
             "gridcolor": "white",
             "linecolor": "white",
             "minorgridcolor": "white",
             "startlinecolor": "#2a3f5f"
            },
            "type": "carpet"
           }
          ],
          "choropleth": [
           {
            "colorbar": {
             "outlinewidth": 0,
             "ticks": ""
            },
            "type": "choropleth"
           }
          ],
          "contour": [
           {
            "colorbar": {
             "outlinewidth": 0,
             "ticks": ""
            },
            "colorscale": [
             [
              0,
              "#0d0887"
             ],
             [
              0.1111111111111111,
              "#46039f"
             ],
             [
              0.2222222222222222,
              "#7201a8"
             ],
             [
              0.3333333333333333,
              "#9c179e"
             ],
             [
              0.4444444444444444,
              "#bd3786"
             ],
             [
              0.5555555555555556,
              "#d8576b"
             ],
             [
              0.6666666666666666,
              "#ed7953"
             ],
             [
              0.7777777777777778,
              "#fb9f3a"
             ],
             [
              0.8888888888888888,
              "#fdca26"
             ],
             [
              1,
              "#f0f921"
             ]
            ],
            "type": "contour"
           }
          ],
          "contourcarpet": [
           {
            "colorbar": {
             "outlinewidth": 0,
             "ticks": ""
            },
            "type": "contourcarpet"
           }
          ],
          "heatmap": [
           {
            "colorbar": {
             "outlinewidth": 0,
             "ticks": ""
            },
            "colorscale": [
             [
              0,
              "#0d0887"
             ],
             [
              0.1111111111111111,
              "#46039f"
             ],
             [
              0.2222222222222222,
              "#7201a8"
             ],
             [
              0.3333333333333333,
              "#9c179e"
             ],
             [
              0.4444444444444444,
              "#bd3786"
             ],
             [
              0.5555555555555556,
              "#d8576b"
             ],
             [
              0.6666666666666666,
              "#ed7953"
             ],
             [
              0.7777777777777778,
              "#fb9f3a"
             ],
             [
              0.8888888888888888,
              "#fdca26"
             ],
             [
              1,
              "#f0f921"
             ]
            ],
            "type": "heatmap"
           }
          ],
          "heatmapgl": [
           {
            "colorbar": {
             "outlinewidth": 0,
             "ticks": ""
            },
            "colorscale": [
             [
              0,
              "#0d0887"
             ],
             [
              0.1111111111111111,
              "#46039f"
             ],
             [
              0.2222222222222222,
              "#7201a8"
             ],
             [
              0.3333333333333333,
              "#9c179e"
             ],
             [
              0.4444444444444444,
              "#bd3786"
             ],
             [
              0.5555555555555556,
              "#d8576b"
             ],
             [
              0.6666666666666666,
              "#ed7953"
             ],
             [
              0.7777777777777778,
              "#fb9f3a"
             ],
             [
              0.8888888888888888,
              "#fdca26"
             ],
             [
              1,
              "#f0f921"
             ]
            ],
            "type": "heatmapgl"
           }
          ],
          "histogram": [
           {
            "marker": {
             "pattern": {
              "fillmode": "overlay",
              "size": 10,
              "solidity": 0.2
             }
            },
            "type": "histogram"
           }
          ],
          "histogram2d": [
           {
            "colorbar": {
             "outlinewidth": 0,
             "ticks": ""
            },
            "colorscale": [
             [
              0,
              "#0d0887"
             ],
             [
              0.1111111111111111,
              "#46039f"
             ],
             [
              0.2222222222222222,
              "#7201a8"
             ],
             [
              0.3333333333333333,
              "#9c179e"
             ],
             [
              0.4444444444444444,
              "#bd3786"
             ],
             [
              0.5555555555555556,
              "#d8576b"
             ],
             [
              0.6666666666666666,
              "#ed7953"
             ],
             [
              0.7777777777777778,
              "#fb9f3a"
             ],
             [
              0.8888888888888888,
              "#fdca26"
             ],
             [
              1,
              "#f0f921"
             ]
            ],
            "type": "histogram2d"
           }
          ],
          "histogram2dcontour": [
           {
            "colorbar": {
             "outlinewidth": 0,
             "ticks": ""
            },
            "colorscale": [
             [
              0,
              "#0d0887"
             ],
             [
              0.1111111111111111,
              "#46039f"
             ],
             [
              0.2222222222222222,
              "#7201a8"
             ],
             [
              0.3333333333333333,
              "#9c179e"
             ],
             [
              0.4444444444444444,
              "#bd3786"
             ],
             [
              0.5555555555555556,
              "#d8576b"
             ],
             [
              0.6666666666666666,
              "#ed7953"
             ],
             [
              0.7777777777777778,
              "#fb9f3a"
             ],
             [
              0.8888888888888888,
              "#fdca26"
             ],
             [
              1,
              "#f0f921"
             ]
            ],
            "type": "histogram2dcontour"
           }
          ],
          "mesh3d": [
           {
            "colorbar": {
             "outlinewidth": 0,
             "ticks": ""
            },
            "type": "mesh3d"
           }
          ],
          "parcoords": [
           {
            "line": {
             "colorbar": {
              "outlinewidth": 0,
              "ticks": ""
             }
            },
            "type": "parcoords"
           }
          ],
          "pie": [
           {
            "automargin": true,
            "type": "pie"
           }
          ],
          "scatter": [
           {
            "fillpattern": {
             "fillmode": "overlay",
             "size": 10,
             "solidity": 0.2
            },
            "type": "scatter"
           }
          ],
          "scatter3d": [
           {
            "line": {
             "colorbar": {
              "outlinewidth": 0,
              "ticks": ""
             }
            },
            "marker": {
             "colorbar": {
              "outlinewidth": 0,
              "ticks": ""
             }
            },
            "type": "scatter3d"
           }
          ],
          "scattercarpet": [
           {
            "marker": {
             "colorbar": {
              "outlinewidth": 0,
              "ticks": ""
             }
            },
            "type": "scattercarpet"
           }
          ],
          "scattergeo": [
           {
            "marker": {
             "colorbar": {
              "outlinewidth": 0,
              "ticks": ""
             }
            },
            "type": "scattergeo"
           }
          ],
          "scattergl": [
           {
            "marker": {
             "colorbar": {
              "outlinewidth": 0,
              "ticks": ""
             }
            },
            "type": "scattergl"
           }
          ],
          "scattermapbox": [
           {
            "marker": {
             "colorbar": {
              "outlinewidth": 0,
              "ticks": ""
             }
            },
            "type": "scattermapbox"
           }
          ],
          "scatterpolar": [
           {
            "marker": {
             "colorbar": {
              "outlinewidth": 0,
              "ticks": ""
             }
            },
            "type": "scatterpolar"
           }
          ],
          "scatterpolargl": [
           {
            "marker": {
             "colorbar": {
              "outlinewidth": 0,
              "ticks": ""
             }
            },
            "type": "scatterpolargl"
           }
          ],
          "scatterternary": [
           {
            "marker": {
             "colorbar": {
              "outlinewidth": 0,
              "ticks": ""
             }
            },
            "type": "scatterternary"
           }
          ],
          "surface": [
           {
            "colorbar": {
             "outlinewidth": 0,
             "ticks": ""
            },
            "colorscale": [
             [
              0,
              "#0d0887"
             ],
             [
              0.1111111111111111,
              "#46039f"
             ],
             [
              0.2222222222222222,
              "#7201a8"
             ],
             [
              0.3333333333333333,
              "#9c179e"
             ],
             [
              0.4444444444444444,
              "#bd3786"
             ],
             [
              0.5555555555555556,
              "#d8576b"
             ],
             [
              0.6666666666666666,
              "#ed7953"
             ],
             [
              0.7777777777777778,
              "#fb9f3a"
             ],
             [
              0.8888888888888888,
              "#fdca26"
             ],
             [
              1,
              "#f0f921"
             ]
            ],
            "type": "surface"
           }
          ],
          "table": [
           {
            "cells": {
             "fill": {
              "color": "#EBF0F8"
             },
             "line": {
              "color": "white"
             }
            },
            "header": {
             "fill": {
              "color": "#C8D4E3"
             },
             "line": {
              "color": "white"
             }
            },
            "type": "table"
           }
          ]
         },
         "layout": {
          "annotationdefaults": {
           "arrowcolor": "#2a3f5f",
           "arrowhead": 0,
           "arrowwidth": 1
          },
          "autotypenumbers": "strict",
          "coloraxis": {
           "colorbar": {
            "outlinewidth": 0,
            "ticks": ""
           }
          },
          "colorscale": {
           "diverging": [
            [
             0,
             "#8e0152"
            ],
            [
             0.1,
             "#c51b7d"
            ],
            [
             0.2,
             "#de77ae"
            ],
            [
             0.3,
             "#f1b6da"
            ],
            [
             0.4,
             "#fde0ef"
            ],
            [
             0.5,
             "#f7f7f7"
            ],
            [
             0.6,
             "#e6f5d0"
            ],
            [
             0.7,
             "#b8e186"
            ],
            [
             0.8,
             "#7fbc41"
            ],
            [
             0.9,
             "#4d9221"
            ],
            [
             1,
             "#276419"
            ]
           ],
           "sequential": [
            [
             0,
             "#0d0887"
            ],
            [
             0.1111111111111111,
             "#46039f"
            ],
            [
             0.2222222222222222,
             "#7201a8"
            ],
            [
             0.3333333333333333,
             "#9c179e"
            ],
            [
             0.4444444444444444,
             "#bd3786"
            ],
            [
             0.5555555555555556,
             "#d8576b"
            ],
            [
             0.6666666666666666,
             "#ed7953"
            ],
            [
             0.7777777777777778,
             "#fb9f3a"
            ],
            [
             0.8888888888888888,
             "#fdca26"
            ],
            [
             1,
             "#f0f921"
            ]
           ],
           "sequentialminus": [
            [
             0,
             "#0d0887"
            ],
            [
             0.1111111111111111,
             "#46039f"
            ],
            [
             0.2222222222222222,
             "#7201a8"
            ],
            [
             0.3333333333333333,
             "#9c179e"
            ],
            [
             0.4444444444444444,
             "#bd3786"
            ],
            [
             0.5555555555555556,
             "#d8576b"
            ],
            [
             0.6666666666666666,
             "#ed7953"
            ],
            [
             0.7777777777777778,
             "#fb9f3a"
            ],
            [
             0.8888888888888888,
             "#fdca26"
            ],
            [
             1,
             "#f0f921"
            ]
           ]
          },
          "colorway": [
           "#636efa",
           "#EF553B",
           "#00cc96",
           "#ab63fa",
           "#FFA15A",
           "#19d3f3",
           "#FF6692",
           "#B6E880",
           "#FF97FF",
           "#FECB52"
          ],
          "font": {
           "color": "#2a3f5f"
          },
          "geo": {
           "bgcolor": "white",
           "lakecolor": "white",
           "landcolor": "#E5ECF6",
           "showlakes": true,
           "showland": true,
           "subunitcolor": "white"
          },
          "hoverlabel": {
           "align": "left"
          },
          "hovermode": "closest",
          "mapbox": {
           "style": "light"
          },
          "paper_bgcolor": "white",
          "plot_bgcolor": "#E5ECF6",
          "polar": {
           "angularaxis": {
            "gridcolor": "white",
            "linecolor": "white",
            "ticks": ""
           },
           "bgcolor": "#E5ECF6",
           "radialaxis": {
            "gridcolor": "white",
            "linecolor": "white",
            "ticks": ""
           }
          },
          "scene": {
           "xaxis": {
            "backgroundcolor": "#E5ECF6",
            "gridcolor": "white",
            "gridwidth": 2,
            "linecolor": "white",
            "showbackground": true,
            "ticks": "",
            "zerolinecolor": "white"
           },
           "yaxis": {
            "backgroundcolor": "#E5ECF6",
            "gridcolor": "white",
            "gridwidth": 2,
            "linecolor": "white",
            "showbackground": true,
            "ticks": "",
            "zerolinecolor": "white"
           },
           "zaxis": {
            "backgroundcolor": "#E5ECF6",
            "gridcolor": "white",
            "gridwidth": 2,
            "linecolor": "white",
            "showbackground": true,
            "ticks": "",
            "zerolinecolor": "white"
           }
          },
          "shapedefaults": {
           "line": {
            "color": "#2a3f5f"
           }
          },
          "ternary": {
           "aaxis": {
            "gridcolor": "white",
            "linecolor": "white",
            "ticks": ""
           },
           "baxis": {
            "gridcolor": "white",
            "linecolor": "white",
            "ticks": ""
           },
           "bgcolor": "#E5ECF6",
           "caxis": {
            "gridcolor": "white",
            "linecolor": "white",
            "ticks": ""
           }
          },
          "title": {
           "x": 0.05
          },
          "xaxis": {
           "automargin": true,
           "gridcolor": "white",
           "linecolor": "white",
           "ticks": "",
           "title": {
            "standoff": 15
           },
           "zerolinecolor": "white",
           "zerolinewidth": 2
          },
          "yaxis": {
           "automargin": true,
           "gridcolor": "white",
           "linecolor": "white",
           "ticks": "",
           "title": {
            "standoff": 15
           },
           "zerolinecolor": "white",
           "zerolinewidth": 2
          }
         }
        },
        "title": {
         "text": "Visualization of RMSE of time prediction models (based on different trace predcitions) in seconds"
        },
        "width": 1000,
        "xaxis": {
         "anchor": "y",
         "domain": [
          0,
          1
         ],
         "title": {
          "text": "Time prediciton models"
         }
        },
        "yaxis": {
         "anchor": "x",
         "domain": [
          0,
          1
         ],
         "title": {
          "text": "Mean Absolute Error (in hours)"
         }
        }
       }
      }
     },
     "metadata": {},
     "output_type": "display_data"
    }
   ],
   "source": [
    "px.scatter(models_scores_time_df, x = 'model_name', y = 'MAE',\n",
    "           labels = {\n",
    "                      'model_name': 'Time prediciton models',\n",
    "                      'MAE': 'Mean Absolute Error (in hours)'},\n",
    "                  title = 'Visualization of RMSE of time prediction models (based on different trace predcitions) in seconds',\n",
    "                  width=1000,\n",
    "                  height=500)"
   ]
  },
  {
   "cell_type": "code",
   "execution_count": 48,
   "metadata": {},
   "outputs": [
    {
     "name": "stdout",
     "output_type": "stream",
     "text": [
      "--- 88.13192582130432 seconds ---\n"
     ]
    }
   ],
   "source": [
    "print(\"--- %s seconds ---\" % (time.time() - start_time))"
   ]
  }
 ],
 "metadata": {
  "kernelspec": {
   "display_name": "Python 3",
   "language": "python",
   "name": "python3"
  },
  "language_info": {
   "codemirror_mode": {
    "name": "ipython",
    "version": 3
   },
   "file_extension": ".py",
   "mimetype": "text/x-python",
   "name": "python",
   "nbconvert_exporter": "python",
   "pygments_lexer": "ipython3",
   "version": "3.12.0"
  },
  "orig_nbformat": 4
 },
 "nbformat": 4,
 "nbformat_minor": 2
}
