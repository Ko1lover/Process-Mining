{
 "cells": [
  {
   "attachments": {},
   "cell_type": "markdown",
   "metadata": {},
   "source": [
    "# Whole event prediction"
   ]
  },
  {
   "cell_type": "code",
   "execution_count": 2,
   "metadata": {},
   "outputs": [],
   "source": [
    "from sklearn.preprocessing import LabelEncoder\n",
    "from sklearn.metrics import mean_absolute_error\n",
    "from Split_functions import data_split\n",
    "import plotly.express as px\n",
    "\n",
    "import pandas as pd\n",
    "import numpy as np\n",
    "\n",
    "import pm4py as pm4\n",
    "\n",
    "import pickle"
   ]
  },
  {
   "cell_type": "code",
   "execution_count": 3,
   "metadata": {},
   "outputs": [],
   "source": [
    "# Since the model was already working, you could try to do the model based on first 2,3,4,5,6,7,8,9,10 values to predict all the values\n",
    "# Becuase around 47% of events length are less than 10"
   ]
  },
  {
   "cell_type": "code",
   "execution_count": 4,
   "metadata": {},
   "outputs": [
    {
     "data": {
      "text/html": [
       "<div>\n",
       "<style scoped>\n",
       "    .dataframe tbody tr th:only-of-type {\n",
       "        vertical-align: middle;\n",
       "    }\n",
       "\n",
       "    .dataframe tbody tr th {\n",
       "        vertical-align: top;\n",
       "    }\n",
       "\n",
       "    .dataframe thead th {\n",
       "        text-align: right;\n",
       "    }\n",
       "</style>\n",
       "<table border=\"1\" class=\"dataframe\">\n",
       "  <thead>\n",
       "    <tr style=\"text-align: right;\">\n",
       "      <th></th>\n",
       "      <th>concept:name</th>\n",
       "      <th>time:timestamp</th>\n",
       "      <th>case:concept:name</th>\n",
       "    </tr>\n",
       "  </thead>\n",
       "  <tbody>\n",
       "    <tr>\n",
       "      <th>0</th>\n",
       "      <td>A_SUBMITTED</td>\n",
       "      <td>2011-10-01 00:38:44.546000+00:00</td>\n",
       "      <td>173688</td>\n",
       "    </tr>\n",
       "    <tr>\n",
       "      <th>1</th>\n",
       "      <td>A_PARTLYSUBMITTED</td>\n",
       "      <td>2011-10-01 00:38:44.880000+00:00</td>\n",
       "      <td>173688</td>\n",
       "    </tr>\n",
       "    <tr>\n",
       "      <th>2</th>\n",
       "      <td>A_PREACCEPTED</td>\n",
       "      <td>2011-10-01 00:39:37.906000+00:00</td>\n",
       "      <td>173688</td>\n",
       "    </tr>\n",
       "    <tr>\n",
       "      <th>3</th>\n",
       "      <td>A_ACCEPTED</td>\n",
       "      <td>2011-10-01 11:42:43.308000+00:00</td>\n",
       "      <td>173688</td>\n",
       "    </tr>\n",
       "    <tr>\n",
       "      <th>4</th>\n",
       "      <td>O_SELECTED</td>\n",
       "      <td>2011-10-01 11:45:09.243000+00:00</td>\n",
       "      <td>173688</td>\n",
       "    </tr>\n",
       "  </tbody>\n",
       "</table>\n",
       "</div>"
      ],
      "text/plain": [
       "        concept:name                    time:timestamp  case:concept:name\n",
       "0        A_SUBMITTED  2011-10-01 00:38:44.546000+00:00             173688\n",
       "1  A_PARTLYSUBMITTED  2011-10-01 00:38:44.880000+00:00             173688\n",
       "2      A_PREACCEPTED  2011-10-01 00:39:37.906000+00:00             173688\n",
       "3         A_ACCEPTED  2011-10-01 11:42:43.308000+00:00             173688\n",
       "4         O_SELECTED  2011-10-01 11:45:09.243000+00:00             173688"
      ]
     },
     "execution_count": 4,
     "metadata": {},
     "output_type": "execute_result"
    }
   ],
   "source": [
    "df = pd.read_csv('cleaned_data.csv')\n",
    "df.head()"
   ]
  },
  {
   "attachments": {},
   "cell_type": "markdown",
   "metadata": {},
   "source": [
    "## SOME DATA PREPARATIOIN "
   ]
  },
  {
   "cell_type": "code",
   "execution_count": 4,
   "metadata": {},
   "outputs": [],
   "source": [
    "clown = df.groupby('case:concept:name').count().sort_values(by = 'concept:name')\n",
    "needed_ids = clown[clown['concept:name'] <= 82].reset_index()['case:concept:name'].unique()\n",
    "df = df[df['case:concept:name'].isin(needed_ids)]"
   ]
  },
  {
   "attachments": {},
   "cell_type": "markdown",
   "metadata": {},
   "source": [
    "### For time"
   ]
  },
  {
   "cell_type": "code",
   "execution_count": 5,
   "metadata": {},
   "outputs": [],
   "source": [
    "df['hour'] = df['time:timestamp'].dt.hour\n",
    "df['day'] = df['time:timestamp'].dt.day\n",
    "df['month'] = df['time:timestamp'].dt.month\n",
    "df['weekday'] = df['time:timestamp'].dt.strftime(\"%A\")\n",
    "df['is_holiday'] = 0"
   ]
  },
  {
   "cell_type": "code",
   "execution_count": 6,
   "metadata": {},
   "outputs": [],
   "source": [
    "work_hours = df.groupby('hour').count()\n",
    "work_hours['percentage'] = work_hours['concept:name'].apply(lambda x : x/sum(work_hours['concept:name'])*100)\n",
    "work_hours_list = work_hours[work_hours['percentage']>1].reset_index()['hour'].to_list()"
   ]
  },
  {
   "cell_type": "code",
   "execution_count": 7,
   "metadata": {},
   "outputs": [],
   "source": [
    "# Determining if it is the working hours or not\n",
    "df['work_hour'] = df['hour'].apply(lambda x: 1 if x in(work_hours_list) else 0)"
   ]
  },
  {
   "cell_type": "code",
   "execution_count": 8,
   "metadata": {},
   "outputs": [],
   "source": [
    "# Typical weekends\n",
    "df.loc[(df['weekday'] == 'Sunday') | (df['weekday'] == 'Saturday'), 'is_holiday'] = 1\n",
    "\n",
    "# New Year's Day\n",
    "df.loc[(df['day'] == 1) & (df['month'] == 1), 'is_holiday'] = 1\n",
    "\n",
    "# Christmas Day \n",
    "df.loc[((df['day'].isin([i for i in range(22, 27)]))) & (df['month'] == 1), 'is_holiday'] = 1\n",
    "\n",
    "# Good Friday, Easter \n",
    "df.loc[(df['day'].isin([i for i in range(6,10)])) & (df['month'] == 4), 'is_holiday'] = 1\n",
    "\n",
    "# King's day (27 April)\n",
    "df.loc[(df['day'] == 27) & (df['month'] == 4), 'is_holiday'] = 1\n",
    "\n",
    "# Liberation Day\n",
    "df.loc[(df['day'] == 5) & (df['month'] == 5), 'is_holiday'] = 1\n",
    "\n",
    "# Ascension Day \n",
    "df.loc[(df['day'].isin([i for i in range(17, 21)])) & (df['month'] == 5), 'is_holiday'] = 1\n",
    "\n",
    "# Pentecost\n",
    "df.loc[(df['day'].isin([i for i in range(26, 29)])) & (df['month'] == 5), 'is_holiday'] = 1"
   ]
  },
  {
   "cell_type": "code",
   "execution_count": 9,
   "metadata": {},
   "outputs": [],
   "source": [
    "df['current_time_delta'] = df.groupby('case:concept:name')['time:timestamp'].diff(-1).dt.total_seconds().abs()\n",
    "df['logged_current_time_delta'] = np.log(df['current_time_delta'] + 1)"
   ]
  },
  {
   "cell_type": "code",
   "execution_count": 10,
   "metadata": {},
   "outputs": [],
   "source": [
    "df['next_activity_time'] = df.groupby('case:concept:name')['logged_current_time_delta'].shift(-1)\n",
    "df['lag1'] = df.groupby('case:concept:name')['logged_current_time_delta'].shift(1)\n",
    "df['lag2'] = df.groupby('case:concept:name')['logged_current_time_delta'].shift(2)\n",
    "df['lag3'] = df.groupby('case:concept:name')['logged_current_time_delta'].shift(3)\n",
    "df['lag4'] = df.groupby('case:concept:name')['logged_current_time_delta'].shift(4)\n",
    "df['lag5'] = df.groupby('case:concept:name')['logged_current_time_delta'].shift(5)"
   ]
  },
  {
   "cell_type": "code",
   "execution_count": 11,
   "metadata": {},
   "outputs": [],
   "source": [
    "df = df.fillna(1e-6)"
   ]
  },
  {
   "attachments": {},
   "cell_type": "markdown",
   "metadata": {},
   "source": [
    "### For event"
   ]
  },
  {
   "cell_type": "code",
   "execution_count": 12,
   "metadata": {},
   "outputs": [],
   "source": [
    "df['next_activity'] = df.groupby('case:concept:name')['concept:name'].shift(-1)\n",
    "df['previous_activity1'] = df.groupby('case:concept:name')['concept:name'].shift(1)\n",
    "df['previous_activity2'] = df.groupby('case:concept:name')['concept:name'].shift(2)\n",
    "df['previous_activity3'] = df.groupby('case:concept:name')['concept:name'].shift(3)\n",
    "df['previous_activity4'] = df.groupby('case:concept:name')['concept:name'].shift(4)\n",
    "df['previous_activity5'] = df.groupby('case:concept:name')['concept:name'].shift(5)"
   ]
  },
  {
   "cell_type": "code",
   "execution_count": 13,
   "metadata": {},
   "outputs": [],
   "source": [
    "le = LabelEncoder()\n",
    "df['current_activity_encoded'] = le.fit_transform(df['concept:name'])\n",
    "df['next_activity_encoded'] = le.fit_transform(df['next_activity'])\n",
    "df['previous_activity1_encoded'] = le.fit_transform(df['previous_activity1'])\n",
    "df['previous_activity2_encoded'] = le.fit_transform(df['previous_activity2'])\n",
    "df['previous_activity3_encoded'] = le.fit_transform(df['previous_activity3'])\n",
    "df['previous_activity4_encoded'] = le.fit_transform(df['previous_activity4'])\n",
    "df['previous_activity5_encoded'] = le.fit_transform(df['previous_activity5'])"
   ]
  },
  {
   "cell_type": "code",
   "execution_count": 14,
   "metadata": {},
   "outputs": [],
   "source": [
    "# delete this code\n",
    "df['Start_from_A'] = df['concept:name'].apply(lambda x: 1 if x.split()[0][0] == 'A' else 0)\n",
    "df['Start_from_O'] = df['concept:name'].apply(lambda x: 1 if x.split()[0][0] == 'O' else 0)\n",
    "df['Start_from_W'] = df['concept:name'].apply(lambda x: 1 if x.split()[0][0] == 'W' else 0)\n",
    "df['position'] = df.groupby('case:concept:name').cumcount()+1\n",
    "df = pd.get_dummies(df, columns=['position'], dtype = int)\n",
    "df = df.drop(['org:resource', 'concept:name', 'lifecycle:transition', 'case:REG_DATE', 'case:AMOUNT_REQ', 'position_82'], axis = 1)\n",
    "to_use = df.drop(['next_activity', 'previous_activity1', 'previous_activity2', 'previous_activity3', 'previous_activity4', 'previous_activity5'], axis = 1)\n",
    "\n",
    "predictor_columns = to_use.drop('next_activity_encoded', axis = 1).columns\n",
    "train_columns = to_use.drop(['case:concept:name','time:timestamp','next_activity_encoded', \"hour\", 'day', 'month','weekday', 'is_holiday', 'work_hour',\n",
    "'current_time_delta','logged_current_time_delta','next_activity_time','lag1','lag2','lag3','lag4','lag5'], axis = 1).columns"
   ]
  },
  {
   "cell_type": "code",
   "execution_count": 15,
   "metadata": {},
   "outputs": [
    {
     "name": "stdout",
     "output_type": "stream",
     "text": [
      "current_activity_encoded\n",
      "previous_activity1_encoded\n",
      "previous_activity2_encoded\n",
      "previous_activity3_encoded\n",
      "previous_activity4_encoded\n",
      "previous_activity5_encoded\n",
      "Start_from_A\n",
      "Start_from_O\n",
      "Start_from_W\n",
      "position_1\n",
      "position_2\n",
      "position_3\n",
      "position_4\n",
      "position_5\n",
      "position_6\n",
      "position_7\n",
      "position_8\n",
      "position_9\n",
      "position_10\n",
      "position_11\n",
      "position_12\n",
      "position_13\n",
      "position_14\n",
      "position_15\n",
      "position_16\n"
     ]
    }
   ],
   "source": [
    "for i in range(25):\n",
    "    print(train_columns[i])"
   ]
  },
  {
   "cell_type": "code",
   "execution_count": 16,
   "metadata": {},
   "outputs": [],
   "source": [
    "predictor = df[['logged_current_time_delta', \n",
    "                'current_activity_encoded',\n",
    "                'previous_activity1_encoded',\n",
    "                'previous_activity2_encoded', \n",
    "                'previous_activity3_encoded', \n",
    "                'previous_activity4_encoded', \n",
    "                'previous_activity5_encoded',\n",
    "                'lag1', \n",
    "                'lag2', \n",
    "                'lag3', \n",
    "                'lag4', \n",
    "                'lag5',\n",
    "                'work_hour',\n",
    "                'is_holiday', \n",
    "                'month',\n",
    "                'case:concept:name', \n",
    "                'time:timestamp']]\n",
    "target = df[['next_activity_encoded', \n",
    "             'next_activity_time',\n",
    "             'case:concept:name', \n",
    "             'time:timestamp']]\n",
    "train_size = 0.8\n",
    "\n",
    "X, X_test, y, y_test = data_split(predictor, target, train_size)"
   ]
  },
  {
   "cell_type": "code",
   "execution_count": 17,
   "metadata": {},
   "outputs": [],
   "source": [
    "X_features_time = ['case:concept:name',\n",
    "                   'current_activity_encoded', \n",
    "                   'previous_activity1_encoded', \n",
    "                   'previous_activity2_encoded', \n",
    "                   'previous_activity3_encoded', \n",
    "                   'previous_activity4_encoded', \n",
    "                   'previous_activity5_encoded',\n",
    "                   'logged_current_time_delta',\n",
    "                   'lag1', \n",
    "                   'lag2', \n",
    "                   'lag3', \n",
    "                   'lag4', \n",
    "                   'lag5',\n",
    "                   'work_hour', \n",
    "                   'is_holiday', \n",
    "                   'month']\n",
    "y_features_time = ['case:concept:name', 'next_activity_encoded', 'next_activity_time']"
   ]
  },
  {
   "cell_type": "code",
   "execution_count": 18,
   "metadata": {},
   "outputs": [],
   "source": [
    "X_features_event = ['case:concept:name', \n",
    "                    'current_activity_encoded', \n",
    "                    'previous_activity1_encoded', \n",
    "                    'previous_activity2_encoded', \n",
    "                    'previous_activity3_encoded',\n",
    "                    'previous_activity4_encoded',\n",
    "                    'previous_activity5_encoded']\n",
    "y_features_event = ['case:concept:name', 'next_activity_encoded']"
   ]
  },
  {
   "cell_type": "code",
   "execution_count": 19,
   "metadata": {},
   "outputs": [],
   "source": [
    "X = X[X_features_time]\n",
    "X_test = X_test[X_features_time]\n",
    "y = y[y_features_time]\n",
    "y_test = y_test[y_features_time]"
   ]
  },
  {
   "cell_type": "code",
   "execution_count": 20,
   "metadata": {},
   "outputs": [],
   "source": [
    "def predict_sequence(X, model_time = None, model_event = None, features_time= None, features_event = None):\n",
    "    predicted_next_sequence = {}\n",
    "    predicted_time_delta = {}\n",
    "\n",
    "    if model_time != None or features_time != None:\n",
    "        for trace in X[features_event[0]].unique():\n",
    "            check = X[X[features_time[0]] == trace] # contains all features and rows of particular trace\n",
    "            predicted_trace = [i for i in check[features_time[1:7]].values[0]] # contains only event values\n",
    "            predicted_time = [i for i in check[features_time[7:-3]].values[0]] # contains only time values\n",
    "\n",
    "            for _ in range(len(check)):\n",
    "                input_event = predicted_trace[:len(features_event)-1]\n",
    "                hour_month_holiday = [i for i in check[features_time[-3:]].values[_]]\n",
    "                input_time = predicted_time[:len(features_event)-1]\n",
    "\n",
    "                temp = np.reshape(np.array(input_event + input_time + hour_month_holiday), (1, len(features_time)-1))\n",
    "                predicted_time.insert(0, model_time.predict(temp)[0])\n",
    "\n",
    "                input_event = np.reshape(np.array(predicted_trace[:len(features_event)-1]), (1, len(features_event)-1))\n",
    "                predicted_trace.insert(0, model_event.predict(input_event)[0])\n",
    "            \n",
    "            predicted_time_delta[trace] = predicted_time[:len(check)][::-1]\n",
    "            predicted_next_sequence[trace] = predicted_trace[:len(check)][::-1]\n",
    "        return predicted_next_sequence, predicted_time_delta\n",
    "    \n",
    "    elif model_time == None:\n",
    "        for trace in X[features_event[0]].unique():\n",
    "            check = X[X[features_event[0]] == trace] # contains all features and rows of particular trace\n",
    "            predicted_trace = [i for i in check[features_event[1:]].values[0]]\n",
    "            for _ in range(len(check)):\n",
    "\n",
    "                input_event = np.reshape(np.array(predicted_trace[:len(features_event)-1]), (1, len(features_event)-1))\n",
    "                predicted_trace.insert(0, model_event.predict(input_event)[0])\n",
    "                \n",
    "            predicted_next_sequence[trace] = predicted_trace[:len(check)][::-1]\n",
    "        return predicted_next_sequence"
   ]
  },
  {
   "cell_type": "code",
   "execution_count": 21,
   "metadata": {},
   "outputs": [],
   "source": [
    "def evaluate_trace_prediction(y, predicted_next_sequence = None, predicted_time_delta= None ,features_time= None, features_event= None):\n",
    "    accuracy_scores = []\n",
    "    mean_absolute_errors = []\n",
    "    if predicted_time_delta != None and features_time != None:\n",
    "        for trace in y[features_event[0]].unique():\n",
    "            true = y[y[features_event[0]] == trace][features_event[-1]].to_list()\n",
    "            predicted = predicted_next_sequence[trace]\n",
    "            correct = 0\n",
    "            for i in range(len(true)):\n",
    "                if true[i] == predicted[i]:\n",
    "                    correct = correct + 1\n",
    "\n",
    "            MAE = round(mean_absolute_error(np.exp(y[y['case:concept:name'] == trace][features_time[-1]]), np.exp(predicted_time_delta[trace])),3)\n",
    "\n",
    "            accuracy_scores.append(correct/len(true))\n",
    "            mean_absolute_errors.append(MAE)\n",
    "\n",
    "        return round(np.mean(accuracy_scores)*100, 2), round(np.mean(mean_absolute_errors),3)\n",
    "    \n",
    "    elif predicted_time_delta == None:\n",
    "        for trace in y[features_event[0]].unique():\n",
    "            true = y[y[features_event[0]] == trace][features_event[-1]].to_list()\n",
    "            predicted = predicted_next_sequence[trace]\n",
    "            correct = 0\n",
    "            for i in range(len(true)):\n",
    "                if true[i] == predicted[i]:\n",
    "                    correct = correct + 1\n",
    "\n",
    "            accuracy_scores.append(correct/len(true))\n",
    "\n",
    "        return round(np.mean(accuracy_scores)*100, 2)"
   ]
  },
  {
   "attachments": {},
   "cell_type": "markdown",
   "metadata": {},
   "source": [
    "# Parameters"
   ]
  },
  {
   "attachments": {},
   "cell_type": "markdown",
   "metadata": {},
   "source": [
    "### For event prediction"
   ]
  },
  {
   "cell_type": "code",
   "execution_count": 22,
   "metadata": {},
   "outputs": [],
   "source": [
    "event_models = {}"
   ]
  },
  {
   "cell_type": "code",
   "execution_count": 23,
   "metadata": {},
   "outputs": [],
   "source": [
    "# delete this code\n",
    "for i in range(1,11):\n",
    "    loaded_model = pickle.load(open(f'next_activity_prediction_new_rfc_{i}.pk1', 'rb'))\n",
    "    event_models[f'next_activity_prediction_new_rfc_{i}'] = loaded_model\n",
    "\n",
    "for i in range(1,11):\n",
    "    loaded_model = pickle.load(open(f'next_activity_prediction_new_xgbc_{i}.pk1', 'rb'))\n",
    "    event_models[f'next_activity_prediction_new_xgbc_{i}'] = loaded_model"
   ]
  },
  {
   "cell_type": "code",
   "execution_count": null,
   "metadata": {},
   "outputs": [],
   "source": []
  },
  {
   "cell_type": "code",
   "execution_count": 24,
   "metadata": {},
   "outputs": [],
   "source": [
    "for i in range(1,11):\n",
    "    loaded_model = pickle.load(open(f'next_activity_prediction_rfc_{i}.pk1', 'rb'))\n",
    "    event_models[f'next_activity_prediction_rfc_{i}'] = loaded_model"
   ]
  },
  {
   "cell_type": "code",
   "execution_count": 25,
   "metadata": {},
   "outputs": [],
   "source": [
    "for i in range(1,11):\n",
    "    loaded_model = pickle.load(open(f'next_activity_prediction_xgbc_{i}.pk1', 'rb'))\n",
    "    event_models[f'next_activity_prediction_xgbc_{i}'] = loaded_model"
   ]
  },
  {
   "attachments": {},
   "cell_type": "markdown",
   "metadata": {},
   "source": [
    "### For time prediction"
   ]
  },
  {
   "cell_type": "code",
   "execution_count": 26,
   "metadata": {},
   "outputs": [],
   "source": [
    "time_models = {}"
   ]
  },
  {
   "cell_type": "code",
   "execution_count": 27,
   "metadata": {},
   "outputs": [],
   "source": [
    "for i in range(1,11):\n",
    "    loaded_model = pickle.load(open(f'next_activity_time_prediction_rfr_{i}.pk1', 'rb'))\n",
    "    time_models[f'next_activity_time_prediction_rfr_{i}'] = loaded_model"
   ]
  },
  {
   "cell_type": "code",
   "execution_count": 28,
   "metadata": {},
   "outputs": [],
   "source": [
    "for i in range(1,11):\n",
    "    loaded_model = pickle.load(open(f'next_activity_time_prediction_xgbr_{i}.pk1', 'rb'))\n",
    "    time_models[f'next_activity_time_prediction_xgbr_{i}'] = loaded_model"
   ]
  },
  {
   "attachments": {},
   "cell_type": "markdown",
   "metadata": {},
   "source": [
    "# Whole Trace prediciton"
   ]
  },
  {
   "cell_type": "code",
   "execution_count": 29,
   "metadata": {},
   "outputs": [],
   "source": [
    "# Delete this code\n",
    "predictor = df[predictor_columns]\n",
    "target = df[['next_activity_encoded', \n",
    "             'case:concept:name', \n",
    "             'time:timestamp']]\n",
    "train_size = 0.8\n",
    "\n",
    "X, X_test, y, y_test = data_split(predictor, target, train_size)\n",
    "\n",
    "X_features_event = train_columns.insert(0, 'case:concept:name')\n",
    "y_features_event = ['case:concept:name', 'next_activity_encoded']"
   ]
  },
  {
   "cell_type": "code",
   "execution_count": 30,
   "metadata": {},
   "outputs": [
    {
     "data": {
      "text/html": [
       "<div>\n",
       "<style scoped>\n",
       "    .dataframe tbody tr th:only-of-type {\n",
       "        vertical-align: middle;\n",
       "    }\n",
       "\n",
       "    .dataframe tbody tr th {\n",
       "        vertical-align: top;\n",
       "    }\n",
       "\n",
       "    .dataframe thead th {\n",
       "        text-align: right;\n",
       "    }\n",
       "</style>\n",
       "<table border=\"1\" class=\"dataframe\">\n",
       "  <thead>\n",
       "    <tr style=\"text-align: right;\">\n",
       "      <th></th>\n",
       "      <th>case:concept:name</th>\n",
       "      <th>current_activity_encoded</th>\n",
       "      <th>previous_activity1_encoded</th>\n",
       "      <th>previous_activity2_encoded</th>\n",
       "      <th>previous_activity3_encoded</th>\n",
       "      <th>previous_activity4_encoded</th>\n",
       "      <th>previous_activity5_encoded</th>\n",
       "      <th>Start_from_A</th>\n",
       "      <th>Start_from_O</th>\n",
       "      <th>Start_from_W</th>\n",
       "      <th>...</th>\n",
       "      <th>position_72</th>\n",
       "      <th>position_73</th>\n",
       "      <th>position_74</th>\n",
       "      <th>position_75</th>\n",
       "      <th>position_76</th>\n",
       "      <th>position_77</th>\n",
       "      <th>position_78</th>\n",
       "      <th>position_79</th>\n",
       "      <th>position_80</th>\n",
       "      <th>position_81</th>\n",
       "    </tr>\n",
       "  </thead>\n",
       "  <tbody>\n",
       "    <tr>\n",
       "      <th>211304</th>\n",
       "      <td>205909</td>\n",
       "      <td>9</td>\n",
       "      <td>24</td>\n",
       "      <td>24</td>\n",
       "      <td>22</td>\n",
       "      <td>22</td>\n",
       "      <td>22</td>\n",
       "      <td>1</td>\n",
       "      <td>0</td>\n",
       "      <td>0</td>\n",
       "      <td>...</td>\n",
       "      <td>0</td>\n",
       "      <td>0</td>\n",
       "      <td>0</td>\n",
       "      <td>0</td>\n",
       "      <td>0</td>\n",
       "      <td>0</td>\n",
       "      <td>0</td>\n",
       "      <td>0</td>\n",
       "      <td>0</td>\n",
       "      <td>0</td>\n",
       "    </tr>\n",
       "    <tr>\n",
       "      <th>211305</th>\n",
       "      <td>205909</td>\n",
       "      <td>6</td>\n",
       "      <td>9</td>\n",
       "      <td>24</td>\n",
       "      <td>22</td>\n",
       "      <td>22</td>\n",
       "      <td>22</td>\n",
       "      <td>1</td>\n",
       "      <td>0</td>\n",
       "      <td>0</td>\n",
       "      <td>...</td>\n",
       "      <td>0</td>\n",
       "      <td>0</td>\n",
       "      <td>0</td>\n",
       "      <td>0</td>\n",
       "      <td>0</td>\n",
       "      <td>0</td>\n",
       "      <td>0</td>\n",
       "      <td>0</td>\n",
       "      <td>0</td>\n",
       "      <td>0</td>\n",
       "    </tr>\n",
       "    <tr>\n",
       "      <th>211306</th>\n",
       "      <td>205909</td>\n",
       "      <td>17</td>\n",
       "      <td>6</td>\n",
       "      <td>9</td>\n",
       "      <td>22</td>\n",
       "      <td>22</td>\n",
       "      <td>22</td>\n",
       "      <td>0</td>\n",
       "      <td>0</td>\n",
       "      <td>1</td>\n",
       "      <td>...</td>\n",
       "      <td>0</td>\n",
       "      <td>0</td>\n",
       "      <td>0</td>\n",
       "      <td>0</td>\n",
       "      <td>0</td>\n",
       "      <td>0</td>\n",
       "      <td>0</td>\n",
       "      <td>0</td>\n",
       "      <td>0</td>\n",
       "      <td>0</td>\n",
       "    </tr>\n",
       "    <tr>\n",
       "      <th>211307</th>\n",
       "      <td>205909</td>\n",
       "      <td>17</td>\n",
       "      <td>17</td>\n",
       "      <td>6</td>\n",
       "      <td>8</td>\n",
       "      <td>22</td>\n",
       "      <td>22</td>\n",
       "      <td>0</td>\n",
       "      <td>0</td>\n",
       "      <td>1</td>\n",
       "      <td>...</td>\n",
       "      <td>0</td>\n",
       "      <td>0</td>\n",
       "      <td>0</td>\n",
       "      <td>0</td>\n",
       "      <td>0</td>\n",
       "      <td>0</td>\n",
       "      <td>0</td>\n",
       "      <td>0</td>\n",
       "      <td>0</td>\n",
       "      <td>0</td>\n",
       "    </tr>\n",
       "    <tr>\n",
       "      <th>211308</th>\n",
       "      <td>205909</td>\n",
       "      <td>4</td>\n",
       "      <td>17</td>\n",
       "      <td>17</td>\n",
       "      <td>5</td>\n",
       "      <td>8</td>\n",
       "      <td>22</td>\n",
       "      <td>1</td>\n",
       "      <td>0</td>\n",
       "      <td>0</td>\n",
       "      <td>...</td>\n",
       "      <td>0</td>\n",
       "      <td>0</td>\n",
       "      <td>0</td>\n",
       "      <td>0</td>\n",
       "      <td>0</td>\n",
       "      <td>0</td>\n",
       "      <td>0</td>\n",
       "      <td>0</td>\n",
       "      <td>0</td>\n",
       "      <td>0</td>\n",
       "    </tr>\n",
       "    <tr>\n",
       "      <th>...</th>\n",
       "      <td>...</td>\n",
       "      <td>...</td>\n",
       "      <td>...</td>\n",
       "      <td>...</td>\n",
       "      <td>...</td>\n",
       "      <td>...</td>\n",
       "      <td>...</td>\n",
       "      <td>...</td>\n",
       "      <td>...</td>\n",
       "      <td>...</td>\n",
       "      <td>...</td>\n",
       "      <td>...</td>\n",
       "      <td>...</td>\n",
       "      <td>...</td>\n",
       "      <td>...</td>\n",
       "      <td>...</td>\n",
       "      <td>...</td>\n",
       "      <td>...</td>\n",
       "      <td>...</td>\n",
       "      <td>...</td>\n",
       "      <td>...</td>\n",
       "    </tr>\n",
       "    <tr>\n",
       "      <th>262195</th>\n",
       "      <td>214376</td>\n",
       "      <td>6</td>\n",
       "      <td>9</td>\n",
       "      <td>24</td>\n",
       "      <td>22</td>\n",
       "      <td>22</td>\n",
       "      <td>22</td>\n",
       "      <td>1</td>\n",
       "      <td>0</td>\n",
       "      <td>0</td>\n",
       "      <td>...</td>\n",
       "      <td>0</td>\n",
       "      <td>0</td>\n",
       "      <td>0</td>\n",
       "      <td>0</td>\n",
       "      <td>0</td>\n",
       "      <td>0</td>\n",
       "      <td>0</td>\n",
       "      <td>0</td>\n",
       "      <td>0</td>\n",
       "      <td>0</td>\n",
       "    </tr>\n",
       "    <tr>\n",
       "      <th>262196</th>\n",
       "      <td>214376</td>\n",
       "      <td>17</td>\n",
       "      <td>6</td>\n",
       "      <td>9</td>\n",
       "      <td>22</td>\n",
       "      <td>22</td>\n",
       "      <td>22</td>\n",
       "      <td>0</td>\n",
       "      <td>0</td>\n",
       "      <td>1</td>\n",
       "      <td>...</td>\n",
       "      <td>0</td>\n",
       "      <td>0</td>\n",
       "      <td>0</td>\n",
       "      <td>0</td>\n",
       "      <td>0</td>\n",
       "      <td>0</td>\n",
       "      <td>0</td>\n",
       "      <td>0</td>\n",
       "      <td>0</td>\n",
       "      <td>0</td>\n",
       "    </tr>\n",
       "    <tr>\n",
       "      <th>262197</th>\n",
       "      <td>214376</td>\n",
       "      <td>17</td>\n",
       "      <td>17</td>\n",
       "      <td>6</td>\n",
       "      <td>8</td>\n",
       "      <td>22</td>\n",
       "      <td>22</td>\n",
       "      <td>0</td>\n",
       "      <td>0</td>\n",
       "      <td>1</td>\n",
       "      <td>...</td>\n",
       "      <td>0</td>\n",
       "      <td>0</td>\n",
       "      <td>0</td>\n",
       "      <td>0</td>\n",
       "      <td>0</td>\n",
       "      <td>0</td>\n",
       "      <td>0</td>\n",
       "      <td>0</td>\n",
       "      <td>0</td>\n",
       "      <td>0</td>\n",
       "    </tr>\n",
       "    <tr>\n",
       "      <th>262198</th>\n",
       "      <td>214376</td>\n",
       "      <td>4</td>\n",
       "      <td>17</td>\n",
       "      <td>17</td>\n",
       "      <td>5</td>\n",
       "      <td>8</td>\n",
       "      <td>22</td>\n",
       "      <td>1</td>\n",
       "      <td>0</td>\n",
       "      <td>0</td>\n",
       "      <td>...</td>\n",
       "      <td>0</td>\n",
       "      <td>0</td>\n",
       "      <td>0</td>\n",
       "      <td>0</td>\n",
       "      <td>0</td>\n",
       "      <td>0</td>\n",
       "      <td>0</td>\n",
       "      <td>0</td>\n",
       "      <td>0</td>\n",
       "      <td>0</td>\n",
       "    </tr>\n",
       "    <tr>\n",
       "      <th>262199</th>\n",
       "      <td>214376</td>\n",
       "      <td>17</td>\n",
       "      <td>4</td>\n",
       "      <td>17</td>\n",
       "      <td>15</td>\n",
       "      <td>5</td>\n",
       "      <td>8</td>\n",
       "      <td>0</td>\n",
       "      <td>0</td>\n",
       "      <td>1</td>\n",
       "      <td>...</td>\n",
       "      <td>0</td>\n",
       "      <td>0</td>\n",
       "      <td>0</td>\n",
       "      <td>0</td>\n",
       "      <td>0</td>\n",
       "      <td>0</td>\n",
       "      <td>0</td>\n",
       "      <td>0</td>\n",
       "      <td>0</td>\n",
       "      <td>0</td>\n",
       "    </tr>\n",
       "  </tbody>\n",
       "</table>\n",
       "<p>49442 rows × 91 columns</p>\n",
       "</div>"
      ],
      "text/plain": [
       "       case:concept:name  current_activity_encoded  \\\n",
       "211304            205909                         9   \n",
       "211305            205909                         6   \n",
       "211306            205909                        17   \n",
       "211307            205909                        17   \n",
       "211308            205909                         4   \n",
       "...                  ...                       ...   \n",
       "262195            214376                         6   \n",
       "262196            214376                        17   \n",
       "262197            214376                        17   \n",
       "262198            214376                         4   \n",
       "262199            214376                        17   \n",
       "\n",
       "        previous_activity1_encoded  previous_activity2_encoded  \\\n",
       "211304                          24                          24   \n",
       "211305                           9                          24   \n",
       "211306                           6                           9   \n",
       "211307                          17                           6   \n",
       "211308                          17                          17   \n",
       "...                            ...                         ...   \n",
       "262195                           9                          24   \n",
       "262196                           6                           9   \n",
       "262197                          17                           6   \n",
       "262198                          17                          17   \n",
       "262199                           4                          17   \n",
       "\n",
       "        previous_activity3_encoded  previous_activity4_encoded  \\\n",
       "211304                          22                          22   \n",
       "211305                          22                          22   \n",
       "211306                          22                          22   \n",
       "211307                           8                          22   \n",
       "211308                           5                           8   \n",
       "...                            ...                         ...   \n",
       "262195                          22                          22   \n",
       "262196                          22                          22   \n",
       "262197                           8                          22   \n",
       "262198                           5                           8   \n",
       "262199                          15                           5   \n",
       "\n",
       "        previous_activity5_encoded  Start_from_A  Start_from_O  Start_from_W  \\\n",
       "211304                          22             1             0             0   \n",
       "211305                          22             1             0             0   \n",
       "211306                          22             0             0             1   \n",
       "211307                          22             0             0             1   \n",
       "211308                          22             1             0             0   \n",
       "...                            ...           ...           ...           ...   \n",
       "262195                          22             1             0             0   \n",
       "262196                          22             0             0             1   \n",
       "262197                          22             0             0             1   \n",
       "262198                          22             1             0             0   \n",
       "262199                           8             0             0             1   \n",
       "\n",
       "        ...  position_72  position_73  position_74  position_75  position_76  \\\n",
       "211304  ...            0            0            0            0            0   \n",
       "211305  ...            0            0            0            0            0   \n",
       "211306  ...            0            0            0            0            0   \n",
       "211307  ...            0            0            0            0            0   \n",
       "211308  ...            0            0            0            0            0   \n",
       "...     ...          ...          ...          ...          ...          ...   \n",
       "262195  ...            0            0            0            0            0   \n",
       "262196  ...            0            0            0            0            0   \n",
       "262197  ...            0            0            0            0            0   \n",
       "262198  ...            0            0            0            0            0   \n",
       "262199  ...            0            0            0            0            0   \n",
       "\n",
       "        position_77  position_78  position_79  position_80  position_81  \n",
       "211304            0            0            0            0            0  \n",
       "211305            0            0            0            0            0  \n",
       "211306            0            0            0            0            0  \n",
       "211307            0            0            0            0            0  \n",
       "211308            0            0            0            0            0  \n",
       "...             ...          ...          ...          ...          ...  \n",
       "262195            0            0            0            0            0  \n",
       "262196            0            0            0            0            0  \n",
       "262197            0            0            0            0            0  \n",
       "262198            0            0            0            0            0  \n",
       "262199            0            0            0            0            0  \n",
       "\n",
       "[49442 rows x 91 columns]"
      ]
     },
     "execution_count": 30,
     "metadata": {},
     "output_type": "execute_result"
    }
   ],
   "source": [
    "X_test[X_features_event]"
   ]
  },
  {
   "cell_type": "code",
   "execution_count": 31,
   "metadata": {},
   "outputs": [],
   "source": [
    "models_event_scores = {}\n",
    "models_time_scores = {}"
   ]
  },
  {
   "cell_type": "code",
   "execution_count": 32,
   "metadata": {},
   "outputs": [
    {
     "ename": "ValueError",
     "evalue": "X has 90 features, but RandomForestClassifier is expecting 222 features as input.",
     "output_type": "error",
     "traceback": [
      "\u001b[0;31m---------------------------------------------------------------------------\u001b[0m",
      "\u001b[0;31mValueError\u001b[0m                                Traceback (most recent call last)",
      "Cell \u001b[0;32mIn[32], line 3\u001b[0m\n\u001b[1;32m      1\u001b[0m \u001b[39mfor\u001b[39;00m model_event_name \u001b[39min\u001b[39;00m event_models:\n\u001b[0;32m----> 3\u001b[0m     predicted_next_sequence \u001b[39m=\u001b[39m predict_sequence(X \u001b[39m=\u001b[39;49m X_test, model_event \u001b[39m=\u001b[39;49m event_models[model_event_name], features_event \u001b[39m=\u001b[39;49m X_features_event)\n\u001b[1;32m      4\u001b[0m     accuracy \u001b[39m=\u001b[39m evaluate_trace_prediction(y \u001b[39m=\u001b[39m y_test, predicted_next_sequence \u001b[39m=\u001b[39m predicted_next_sequence, features_event \u001b[39m=\u001b[39m y_features_event)\n\u001b[1;32m      5\u001b[0m     \u001b[39mprint\u001b[39m(\u001b[39mf\u001b[39m\u001b[39m'\u001b[39m\u001b[39mAverage predicted event sequence accuracy: \u001b[39m\u001b[39m{\u001b[39;00maccuracy\u001b[39m}\u001b[39;00m\u001b[39m%\u001b[39m\u001b[39m'\u001b[39m)\n",
      "Cell \u001b[0;32mIn[20], line 33\u001b[0m, in \u001b[0;36mpredict_sequence\u001b[0;34m(X, model_time, model_event, features_time, features_event)\u001b[0m\n\u001b[1;32m     30\u001b[0m     \u001b[39mfor\u001b[39;00m _ \u001b[39min\u001b[39;00m \u001b[39mrange\u001b[39m(\u001b[39mlen\u001b[39m(check)):\n\u001b[1;32m     32\u001b[0m         input_event \u001b[39m=\u001b[39m np\u001b[39m.\u001b[39mreshape(np\u001b[39m.\u001b[39marray(predicted_trace[:\u001b[39mlen\u001b[39m(features_event)\u001b[39m-\u001b[39m\u001b[39m1\u001b[39m]), (\u001b[39m1\u001b[39m, \u001b[39mlen\u001b[39m(features_event)\u001b[39m-\u001b[39m\u001b[39m1\u001b[39m))\n\u001b[0;32m---> 33\u001b[0m         predicted_trace\u001b[39m.\u001b[39minsert(\u001b[39m0\u001b[39m, model_event\u001b[39m.\u001b[39;49mpredict(input_event)[\u001b[39m0\u001b[39m])\n\u001b[1;32m     35\u001b[0m     predicted_next_sequence[trace] \u001b[39m=\u001b[39m predicted_trace[:\u001b[39mlen\u001b[39m(check)][::\u001b[39m-\u001b[39m\u001b[39m1\u001b[39m]\n\u001b[1;32m     36\u001b[0m \u001b[39mreturn\u001b[39;00m predicted_next_sequence\n",
      "File \u001b[0;32m/Library/Frameworks/Python.framework/Versions/3.12/lib/python3.12/site-packages/sklearn/ensemble/_forest.py:823\u001b[0m, in \u001b[0;36mForestClassifier.predict\u001b[0;34m(self, X)\u001b[0m\n\u001b[1;32m    802\u001b[0m \u001b[39mdef\u001b[39;00m \u001b[39mpredict\u001b[39m(\u001b[39mself\u001b[39m, X):\n\u001b[1;32m    803\u001b[0m \u001b[39m    \u001b[39m\u001b[39m\"\"\"\u001b[39;00m\n\u001b[1;32m    804\u001b[0m \u001b[39m    Predict class for X.\u001b[39;00m\n\u001b[1;32m    805\u001b[0m \n\u001b[0;32m   (...)\u001b[0m\n\u001b[1;32m    821\u001b[0m \u001b[39m        The predicted classes.\u001b[39;00m\n\u001b[1;32m    822\u001b[0m \u001b[39m    \"\"\"\u001b[39;00m\n\u001b[0;32m--> 823\u001b[0m     proba \u001b[39m=\u001b[39m \u001b[39mself\u001b[39;49m\u001b[39m.\u001b[39;49mpredict_proba(X)\n\u001b[1;32m    825\u001b[0m     \u001b[39mif\u001b[39;00m \u001b[39mself\u001b[39m\u001b[39m.\u001b[39mn_outputs_ \u001b[39m==\u001b[39m \u001b[39m1\u001b[39m:\n\u001b[1;32m    826\u001b[0m         \u001b[39mreturn\u001b[39;00m \u001b[39mself\u001b[39m\u001b[39m.\u001b[39mclasses_\u001b[39m.\u001b[39mtake(np\u001b[39m.\u001b[39margmax(proba, axis\u001b[39m=\u001b[39m\u001b[39m1\u001b[39m), axis\u001b[39m=\u001b[39m\u001b[39m0\u001b[39m)\n",
      "File \u001b[0;32m/Library/Frameworks/Python.framework/Versions/3.12/lib/python3.12/site-packages/sklearn/ensemble/_forest.py:865\u001b[0m, in \u001b[0;36mForestClassifier.predict_proba\u001b[0;34m(self, X)\u001b[0m\n\u001b[1;32m    863\u001b[0m check_is_fitted(\u001b[39mself\u001b[39m)\n\u001b[1;32m    864\u001b[0m \u001b[39m# Check data\u001b[39;00m\n\u001b[0;32m--> 865\u001b[0m X \u001b[39m=\u001b[39m \u001b[39mself\u001b[39;49m\u001b[39m.\u001b[39;49m_validate_X_predict(X)\n\u001b[1;32m    867\u001b[0m \u001b[39m# Assign chunk of trees to jobs\u001b[39;00m\n\u001b[1;32m    868\u001b[0m n_jobs, _, _ \u001b[39m=\u001b[39m _partition_estimators(\u001b[39mself\u001b[39m\u001b[39m.\u001b[39mn_estimators, \u001b[39mself\u001b[39m\u001b[39m.\u001b[39mn_jobs)\n",
      "File \u001b[0;32m/Library/Frameworks/Python.framework/Versions/3.12/lib/python3.12/site-packages/sklearn/ensemble/_forest.py:599\u001b[0m, in \u001b[0;36mBaseForest._validate_X_predict\u001b[0;34m(self, X)\u001b[0m\n\u001b[1;32m    596\u001b[0m \u001b[39m\u001b[39m\u001b[39m\"\"\"\u001b[39;00m\n\u001b[1;32m    597\u001b[0m \u001b[39mValidate X whenever one tries to predict, apply, predict_proba.\"\"\"\u001b[39;00m\n\u001b[1;32m    598\u001b[0m check_is_fitted(\u001b[39mself\u001b[39m)\n\u001b[0;32m--> 599\u001b[0m X \u001b[39m=\u001b[39m \u001b[39mself\u001b[39;49m\u001b[39m.\u001b[39;49m_validate_data(X, dtype\u001b[39m=\u001b[39;49mDTYPE, accept_sparse\u001b[39m=\u001b[39;49m\u001b[39m\"\u001b[39;49m\u001b[39mcsr\u001b[39;49m\u001b[39m\"\u001b[39;49m, reset\u001b[39m=\u001b[39;49m\u001b[39mFalse\u001b[39;49;00m)\n\u001b[1;32m    600\u001b[0m \u001b[39mif\u001b[39;00m issparse(X) \u001b[39mand\u001b[39;00m (X\u001b[39m.\u001b[39mindices\u001b[39m.\u001b[39mdtype \u001b[39m!=\u001b[39m np\u001b[39m.\u001b[39mintc \u001b[39mor\u001b[39;00m X\u001b[39m.\u001b[39mindptr\u001b[39m.\u001b[39mdtype \u001b[39m!=\u001b[39m np\u001b[39m.\u001b[39mintc):\n\u001b[1;32m    601\u001b[0m     \u001b[39mraise\u001b[39;00m \u001b[39mValueError\u001b[39;00m(\u001b[39m\"\u001b[39m\u001b[39mNo support for np.int64 index based sparse matrices\u001b[39m\u001b[39m\"\u001b[39m)\n",
      "File \u001b[0;32m/Library/Frameworks/Python.framework/Versions/3.12/lib/python3.12/site-packages/sklearn/base.py:626\u001b[0m, in \u001b[0;36mBaseEstimator._validate_data\u001b[0;34m(self, X, y, reset, validate_separately, cast_to_ndarray, **check_params)\u001b[0m\n\u001b[1;32m    623\u001b[0m     out \u001b[39m=\u001b[39m X, y\n\u001b[1;32m    625\u001b[0m \u001b[39mif\u001b[39;00m \u001b[39mnot\u001b[39;00m no_val_X \u001b[39mand\u001b[39;00m check_params\u001b[39m.\u001b[39mget(\u001b[39m\"\u001b[39m\u001b[39mensure_2d\u001b[39m\u001b[39m\"\u001b[39m, \u001b[39mTrue\u001b[39;00m):\n\u001b[0;32m--> 626\u001b[0m     \u001b[39mself\u001b[39;49m\u001b[39m.\u001b[39;49m_check_n_features(X, reset\u001b[39m=\u001b[39;49mreset)\n\u001b[1;32m    628\u001b[0m \u001b[39mreturn\u001b[39;00m out\n",
      "File \u001b[0;32m/Library/Frameworks/Python.framework/Versions/3.12/lib/python3.12/site-packages/sklearn/base.py:415\u001b[0m, in \u001b[0;36mBaseEstimator._check_n_features\u001b[0;34m(self, X, reset)\u001b[0m\n\u001b[1;32m    412\u001b[0m     \u001b[39mreturn\u001b[39;00m\n\u001b[1;32m    414\u001b[0m \u001b[39mif\u001b[39;00m n_features \u001b[39m!=\u001b[39m \u001b[39mself\u001b[39m\u001b[39m.\u001b[39mn_features_in_:\n\u001b[0;32m--> 415\u001b[0m     \u001b[39mraise\u001b[39;00m \u001b[39mValueError\u001b[39;00m(\n\u001b[1;32m    416\u001b[0m         \u001b[39mf\u001b[39m\u001b[39m\"\u001b[39m\u001b[39mX has \u001b[39m\u001b[39m{\u001b[39;00mn_features\u001b[39m}\u001b[39;00m\u001b[39m features, but \u001b[39m\u001b[39m{\u001b[39;00m\u001b[39mself\u001b[39m\u001b[39m.\u001b[39m\u001b[39m__class__\u001b[39m\u001b[39m.\u001b[39m\u001b[39m__name__\u001b[39m\u001b[39m}\u001b[39;00m\u001b[39m \u001b[39m\u001b[39m\"\u001b[39m\n\u001b[1;32m    417\u001b[0m         \u001b[39mf\u001b[39m\u001b[39m\"\u001b[39m\u001b[39mis expecting \u001b[39m\u001b[39m{\u001b[39;00m\u001b[39mself\u001b[39m\u001b[39m.\u001b[39mn_features_in_\u001b[39m}\u001b[39;00m\u001b[39m features as input.\u001b[39m\u001b[39m\"\u001b[39m\n\u001b[1;32m    418\u001b[0m     )\n",
      "\u001b[0;31mValueError\u001b[0m: X has 90 features, but RandomForestClassifier is expecting 222 features as input."
     ]
    }
   ],
   "source": [
    "for model_event_name in event_models:\n",
    "    \n",
    "    predicted_next_sequence = predict_sequence(X = X_test, model_event = event_models[model_event_name], features_event = X_features_event)\n",
    "    accuracy = evaluate_trace_prediction(y = y_test, predicted_next_sequence = predicted_next_sequence, features_event = y_features_event)\n",
    "    print(f'Average predicted event sequence accuracy: {accuracy}%')\n",
    "    models_event_scores[f'{model_event_name}'] = accuracy"
   ]
  },
  {
   "attachments": {},
   "cell_type": "markdown",
   "metadata": {},
   "source": [
    "# Choosing the best trace prediction model to predict time on it"
   ]
  },
  {
   "cell_type": "code",
   "execution_count": null,
   "metadata": {},
   "outputs": [],
   "source": [
    "sorted_event_models = sorted(models_event_scores.items(), key = lambda x: x[1], reverse = True)\n",
    "model_event_short = {f'{sorted_event_models[0][0]}': event_models[sorted_event_models[0][0]]}"
   ]
  },
  {
   "cell_type": "code",
   "execution_count": null,
   "metadata": {},
   "outputs": [
    {
     "name": "stdout",
     "output_type": "stream",
     "text": [
      "Model for event prediction: next_activity_prediction_rfc_1\n",
      "Model for time predction: next_activity_time_prediction_rfr_1\n",
      "Average predicted event sequence accuracy: 32.87%\n",
      "Root mean squared error for time prediction: 20923.73 in seconds, 5.81 in hours\n",
      "Model for time predction: next_activity_time_prediction_rfr_2\n",
      "Average predicted event sequence accuracy: 32.87%\n",
      "Root mean squared error for time prediction: 20965.424 in seconds, 5.82 in hours\n",
      "Model for time predction: next_activity_time_prediction_rfr_3\n",
      "Average predicted event sequence accuracy: 32.87%\n",
      "Root mean squared error for time prediction: 21070.106 in seconds, 5.85 in hours\n",
      "Model for time predction: next_activity_time_prediction_rfr_4\n",
      "Average predicted event sequence accuracy: 32.87%\n",
      "Root mean squared error for time prediction: 21017.154 in seconds, 5.84 in hours\n",
      "Model for time predction: next_activity_time_prediction_rfr_5\n",
      "Average predicted event sequence accuracy: 32.87%\n",
      "Root mean squared error for time prediction: 20940.315 in seconds, 5.82 in hours\n",
      "Model for time predction: next_activity_time_prediction_rfr_6\n",
      "Average predicted event sequence accuracy: 32.87%\n",
      "Root mean squared error for time prediction: 20998.695 in seconds, 5.83 in hours\n",
      "Model for time predction: next_activity_time_prediction_rfr_7\n",
      "Average predicted event sequence accuracy: 32.87%\n",
      "Root mean squared error for time prediction: 21061.806 in seconds, 5.85 in hours\n",
      "Model for time predction: next_activity_time_prediction_rfr_8\n",
      "Average predicted event sequence accuracy: 32.87%\n",
      "Root mean squared error for time prediction: 20988.28 in seconds, 5.83 in hours\n",
      "Model for time predction: next_activity_time_prediction_rfr_9\n",
      "Average predicted event sequence accuracy: 32.87%\n",
      "Root mean squared error for time prediction: 21005.279 in seconds, 5.83 in hours\n",
      "Model for time predction: next_activity_time_prediction_rfr_10\n",
      "Average predicted event sequence accuracy: 32.87%\n",
      "Root mean squared error for time prediction: 20969.979 in seconds, 5.82 in hours\n",
      "Model for time predction: next_activity_time_prediction_xgbr_1\n",
      "Average predicted event sequence accuracy: 32.87%\n",
      "Root mean squared error for time prediction: 22789.079 in seconds, 6.33 in hours\n",
      "Model for time predction: next_activity_time_prediction_xgbr_2\n",
      "Average predicted event sequence accuracy: 32.87%\n",
      "Root mean squared error for time prediction: 23927.651 in seconds, 6.65 in hours\n",
      "Model for time predction: next_activity_time_prediction_xgbr_3\n",
      "Average predicted event sequence accuracy: 32.87%\n",
      "Root mean squared error for time prediction: 20793.515 in seconds, 5.78 in hours\n",
      "Model for time predction: next_activity_time_prediction_xgbr_4\n",
      "Average predicted event sequence accuracy: 32.87%\n",
      "Root mean squared error for time prediction: 21010.961 in seconds, 5.84 in hours\n",
      "Model for time predction: next_activity_time_prediction_xgbr_5\n",
      "Average predicted event sequence accuracy: 32.87%\n",
      "Root mean squared error for time prediction: 20781.913 in seconds, 5.77 in hours\n",
      "Model for time predction: next_activity_time_prediction_xgbr_6\n",
      "Average predicted event sequence accuracy: 32.87%\n",
      "Root mean squared error for time prediction: 21851.416 in seconds, 6.07 in hours\n",
      "Model for time predction: next_activity_time_prediction_xgbr_7\n",
      "Average predicted event sequence accuracy: 32.87%\n",
      "Root mean squared error for time prediction: 21183.973 in seconds, 5.88 in hours\n",
      "Model for time predction: next_activity_time_prediction_xgbr_8\n",
      "Average predicted event sequence accuracy: 32.87%\n",
      "Root mean squared error for time prediction: 20783.146 in seconds, 5.77 in hours\n",
      "Model for time predction: next_activity_time_prediction_xgbr_9\n",
      "Average predicted event sequence accuracy: 32.87%\n",
      "Root mean squared error for time prediction: 20571.955 in seconds, 5.71 in hours\n",
      "Model for time predction: next_activity_time_prediction_xgbr_10\n",
      "Average predicted event sequence accuracy: 32.87%\n",
      "Root mean squared error for time prediction: 20641.244 in seconds, 5.73 in hours\n"
     ]
    }
   ],
   "source": [
    "for model_event_name in model_event_short:\n",
    "    print(f\"Model for event prediction: {model_event_name}\")\n",
    "    for model_time_name in time_models:\n",
    "        print(f'Model for time predction: {model_time_name}')\n",
    "        predicted_next_sequence, predicted_time_delta = predict_sequence(X_test, \n",
    "                                                                         time_models[model_time_name], \n",
    "                                                                         event_models[model_event_name],\n",
    "                                                                         X_features_time, \n",
    "                                                                         X_features_event)\n",
    "        accuracy, rmse = evaluate_trace_prediction(y_test, \n",
    "                                                   predicted_next_sequence, \n",
    "                                                   predicted_time_delta, \n",
    "                                                   y_features_time, \n",
    "                                                   y_features_event)\n",
    "        print(f'Average predicted event sequence accuracy: {accuracy}%')\n",
    "        print(f'Root mean squared error for time prediction: {rmse} in seconds, {round(rmse/3600,2)} in hours')\n",
    "        models_event_scores[f'{model_event_name}'] = accuracy\n",
    "        models_time_scores[f'{model_event_name}/{model_time_name}'] = rmse"
   ]
  },
  {
   "cell_type": "code",
   "execution_count": null,
   "metadata": {},
   "outputs": [],
   "source": [
    "models_scores_event_df = pd.DataFrame.from_dict(models_event_scores, orient = 'index')"
   ]
  },
  {
   "cell_type": "code",
   "execution_count": null,
   "metadata": {},
   "outputs": [],
   "source": [
    "models_scores_time_df = pd.DataFrame.from_dict(models_time_scores, orient = 'index')"
   ]
  },
  {
   "cell_type": "code",
   "execution_count": null,
   "metadata": {},
   "outputs": [],
   "source": [
    "models_scores_event_df.reset_index(inplace = True)\n",
    "models_scores_event_df.columns = ['model_name', 'accuracy']\n",
    "models_scores_event_df['model_type'] = models_scores_event_df['model_name'].apply(lambda x: 'Random Forest' if x.startswith('next_activity_prediction_rfc') else 'XGBoost')"
   ]
  },
  {
   "cell_type": "code",
   "execution_count": null,
   "metadata": {},
   "outputs": [
    {
     "ename": "ValueError",
     "evalue": "Length mismatch: Expected axis has 4 elements, new values have 2 elements",
     "output_type": "error",
     "traceback": [
      "\u001b[0;31m---------------------------------------------------------------------------\u001b[0m",
      "\u001b[0;31mValueError\u001b[0m                                Traceback (most recent call last)",
      "Cell \u001b[0;32mIn[167], line 2\u001b[0m\n\u001b[1;32m      1\u001b[0m models_scores_time_df\u001b[39m.\u001b[39mreset_index(inplace \u001b[39m=\u001b[39m \u001b[39mTrue\u001b[39;00m)\n\u001b[0;32m----> 2\u001b[0m models_scores_time_df\u001b[39m.\u001b[39;49mcolumns \u001b[39m=\u001b[39m [\u001b[39m'\u001b[39m\u001b[39mmodel_name\u001b[39m\u001b[39m'\u001b[39m, \u001b[39m'\u001b[39m\u001b[39mMAE\u001b[39m\u001b[39m'\u001b[39m]\n",
      "File \u001b[0;32m/Library/Frameworks/Python.framework/Versions/3.12/lib/python3.12/site-packages/pandas/core/generic.py:6218\u001b[0m, in \u001b[0;36mNDFrame.__setattr__\u001b[0;34m(self, name, value)\u001b[0m\n\u001b[1;32m   6216\u001b[0m \u001b[39mtry\u001b[39;00m:\n\u001b[1;32m   6217\u001b[0m     \u001b[39mobject\u001b[39m\u001b[39m.\u001b[39m\u001b[39m__getattribute__\u001b[39m(\u001b[39mself\u001b[39m, name)\n\u001b[0;32m-> 6218\u001b[0m     \u001b[39mreturn\u001b[39;00m \u001b[39mobject\u001b[39;49m\u001b[39m.\u001b[39;49m\u001b[39m__setattr__\u001b[39;49m(\u001b[39mself\u001b[39;49m, name, value)\n\u001b[1;32m   6219\u001b[0m \u001b[39mexcept\u001b[39;00m \u001b[39mAttributeError\u001b[39;00m:\n\u001b[1;32m   6220\u001b[0m     \u001b[39mpass\u001b[39;00m\n",
      "File \u001b[0;32mproperties.pyx:69\u001b[0m, in \u001b[0;36mpandas._libs.properties.AxisProperty.__set__\u001b[0;34m()\u001b[0m\n",
      "File \u001b[0;32m/Library/Frameworks/Python.framework/Versions/3.12/lib/python3.12/site-packages/pandas/core/generic.py:767\u001b[0m, in \u001b[0;36mNDFrame._set_axis\u001b[0;34m(self, axis, labels)\u001b[0m\n\u001b[1;32m    762\u001b[0m \u001b[39m\u001b[39m\u001b[39m\"\"\"\u001b[39;00m\n\u001b[1;32m    763\u001b[0m \u001b[39mThis is called from the cython code when we set the `index` attribute\u001b[39;00m\n\u001b[1;32m    764\u001b[0m \u001b[39mdirectly, e.g. `series.index = [1, 2, 3]`.\u001b[39;00m\n\u001b[1;32m    765\u001b[0m \u001b[39m\"\"\"\u001b[39;00m\n\u001b[1;32m    766\u001b[0m labels \u001b[39m=\u001b[39m ensure_index(labels)\n\u001b[0;32m--> 767\u001b[0m \u001b[39mself\u001b[39;49m\u001b[39m.\u001b[39;49m_mgr\u001b[39m.\u001b[39;49mset_axis(axis, labels)\n\u001b[1;32m    768\u001b[0m \u001b[39mself\u001b[39m\u001b[39m.\u001b[39m_clear_item_cache()\n",
      "File \u001b[0;32m/Library/Frameworks/Python.framework/Versions/3.12/lib/python3.12/site-packages/pandas/core/internals/managers.py:227\u001b[0m, in \u001b[0;36mBaseBlockManager.set_axis\u001b[0;34m(self, axis, new_labels)\u001b[0m\n\u001b[1;32m    225\u001b[0m \u001b[39mdef\u001b[39;00m \u001b[39mset_axis\u001b[39m(\u001b[39mself\u001b[39m, axis: AxisInt, new_labels: Index) \u001b[39m-\u001b[39m\u001b[39m>\u001b[39m \u001b[39mNone\u001b[39;00m:\n\u001b[1;32m    226\u001b[0m     \u001b[39m# Caller is responsible for ensuring we have an Index object.\u001b[39;00m\n\u001b[0;32m--> 227\u001b[0m     \u001b[39mself\u001b[39;49m\u001b[39m.\u001b[39;49m_validate_set_axis(axis, new_labels)\n\u001b[1;32m    228\u001b[0m     \u001b[39mself\u001b[39m\u001b[39m.\u001b[39maxes[axis] \u001b[39m=\u001b[39m new_labels\n",
      "File \u001b[0;32m/Library/Frameworks/Python.framework/Versions/3.12/lib/python3.12/site-packages/pandas/core/internals/base.py:85\u001b[0m, in \u001b[0;36mDataManager._validate_set_axis\u001b[0;34m(self, axis, new_labels)\u001b[0m\n\u001b[1;32m     82\u001b[0m     \u001b[39mpass\u001b[39;00m\n\u001b[1;32m     84\u001b[0m \u001b[39melif\u001b[39;00m new_len \u001b[39m!=\u001b[39m old_len:\n\u001b[0;32m---> 85\u001b[0m     \u001b[39mraise\u001b[39;00m \u001b[39mValueError\u001b[39;00m(\n\u001b[1;32m     86\u001b[0m         \u001b[39mf\u001b[39m\u001b[39m\"\u001b[39m\u001b[39mLength mismatch: Expected axis has \u001b[39m\u001b[39m{\u001b[39;00mold_len\u001b[39m}\u001b[39;00m\u001b[39m elements, new \u001b[39m\u001b[39m\"\u001b[39m\n\u001b[1;32m     87\u001b[0m         \u001b[39mf\u001b[39m\u001b[39m\"\u001b[39m\u001b[39mvalues have \u001b[39m\u001b[39m{\u001b[39;00mnew_len\u001b[39m}\u001b[39;00m\u001b[39m elements\u001b[39m\u001b[39m\"\u001b[39m\n\u001b[1;32m     88\u001b[0m     )\n",
      "\u001b[0;31mValueError\u001b[0m: Length mismatch: Expected axis has 4 elements, new values have 2 elements"
     ]
    }
   ],
   "source": [
    "models_scores_time_df.reset_index(inplace = True)\n",
    "models_scores_time_df.columns = ['model_name', 'MAE']\n"
   ]
  },
  {
   "cell_type": "code",
   "execution_count": null,
   "metadata": {},
   "outputs": [],
   "source": [
    "models_scores_time_df['MAE'] = models_scores_time_df['MAE'].apply(lambda x: x/3600)\n",
    "models_scores_time_df['model_name'] = models_scores_time_df['model_name'].apply(lambda x: x.split('/')[1])"
   ]
  },
  {
   "cell_type": "code",
   "execution_count": null,
   "metadata": {},
   "outputs": [
    {
     "data": {
      "application/vnd.plotly.v1+json": {
       "config": {
        "plotlyServerURL": "https://plot.ly"
       },
       "data": [
        {
         "hovertemplate": "model_type=XGBoost<br>model_name=%{x}<br>accuracy=%{y}<extra></extra>",
         "legendgroup": "XGBoost",
         "marker": {
          "color": "#636efa",
          "symbol": "circle"
         },
         "mode": "markers",
         "name": "XGBoost",
         "orientation": "v",
         "showlegend": true,
         "type": "scatter",
         "x": [
          "next_activity_prediction_new_rfc_1",
          "next_activity_prediction_new_rfc_2",
          "next_activity_prediction_new_rfc_3",
          "next_activity_prediction_new_rfc_4",
          "next_activity_prediction_new_rfc_5",
          "next_activity_prediction_new_rfc_6",
          "next_activity_prediction_new_rfc_7",
          "next_activity_prediction_new_rfc_8",
          "next_activity_prediction_new_rfc_9",
          "next_activity_prediction_new_rfc_10",
          "next_activity_prediction_new_xgbc_1",
          "next_activity_prediction_new_xgbc_2",
          "next_activity_prediction_new_xgbc_3",
          "next_activity_prediction_new_xgbc_4",
          "next_activity_prediction_new_xgbc_5",
          "next_activity_prediction_new_xgbc_6",
          "next_activity_prediction_new_xgbc_7",
          "next_activity_prediction_new_xgbc_8",
          "next_activity_prediction_new_xgbc_9",
          "next_activity_prediction_new_xgbc_10"
         ],
         "xaxis": "x",
         "y": [
          11.19,
          12.31,
          9,
          9.61,
          10.21,
          4.67,
          8.26,
          6.74,
          8.81,
          11.14,
          8.07,
          6.27,
          22.6,
          22.96,
          21.58,
          20.62,
          20.95,
          20.93,
          19.97,
          21.11
         ],
         "yaxis": "y"
        }
       ],
       "layout": {
        "height": 500,
        "legend": {
         "title": {
          "text": "model_type"
         },
         "tracegroupgap": 0
        },
        "template": {
         "data": {
          "bar": [
           {
            "error_x": {
             "color": "#2a3f5f"
            },
            "error_y": {
             "color": "#2a3f5f"
            },
            "marker": {
             "line": {
              "color": "#E5ECF6",
              "width": 0.5
             },
             "pattern": {
              "fillmode": "overlay",
              "size": 10,
              "solidity": 0.2
             }
            },
            "type": "bar"
           }
          ],
          "barpolar": [
           {
            "marker": {
             "line": {
              "color": "#E5ECF6",
              "width": 0.5
             },
             "pattern": {
              "fillmode": "overlay",
              "size": 10,
              "solidity": 0.2
             }
            },
            "type": "barpolar"
           }
          ],
          "carpet": [
           {
            "aaxis": {
             "endlinecolor": "#2a3f5f",
             "gridcolor": "white",
             "linecolor": "white",
             "minorgridcolor": "white",
             "startlinecolor": "#2a3f5f"
            },
            "baxis": {
             "endlinecolor": "#2a3f5f",
             "gridcolor": "white",
             "linecolor": "white",
             "minorgridcolor": "white",
             "startlinecolor": "#2a3f5f"
            },
            "type": "carpet"
           }
          ],
          "choropleth": [
           {
            "colorbar": {
             "outlinewidth": 0,
             "ticks": ""
            },
            "type": "choropleth"
           }
          ],
          "contour": [
           {
            "colorbar": {
             "outlinewidth": 0,
             "ticks": ""
            },
            "colorscale": [
             [
              0,
              "#0d0887"
             ],
             [
              0.1111111111111111,
              "#46039f"
             ],
             [
              0.2222222222222222,
              "#7201a8"
             ],
             [
              0.3333333333333333,
              "#9c179e"
             ],
             [
              0.4444444444444444,
              "#bd3786"
             ],
             [
              0.5555555555555556,
              "#d8576b"
             ],
             [
              0.6666666666666666,
              "#ed7953"
             ],
             [
              0.7777777777777778,
              "#fb9f3a"
             ],
             [
              0.8888888888888888,
              "#fdca26"
             ],
             [
              1,
              "#f0f921"
             ]
            ],
            "type": "contour"
           }
          ],
          "contourcarpet": [
           {
            "colorbar": {
             "outlinewidth": 0,
             "ticks": ""
            },
            "type": "contourcarpet"
           }
          ],
          "heatmap": [
           {
            "colorbar": {
             "outlinewidth": 0,
             "ticks": ""
            },
            "colorscale": [
             [
              0,
              "#0d0887"
             ],
             [
              0.1111111111111111,
              "#46039f"
             ],
             [
              0.2222222222222222,
              "#7201a8"
             ],
             [
              0.3333333333333333,
              "#9c179e"
             ],
             [
              0.4444444444444444,
              "#bd3786"
             ],
             [
              0.5555555555555556,
              "#d8576b"
             ],
             [
              0.6666666666666666,
              "#ed7953"
             ],
             [
              0.7777777777777778,
              "#fb9f3a"
             ],
             [
              0.8888888888888888,
              "#fdca26"
             ],
             [
              1,
              "#f0f921"
             ]
            ],
            "type": "heatmap"
           }
          ],
          "heatmapgl": [
           {
            "colorbar": {
             "outlinewidth": 0,
             "ticks": ""
            },
            "colorscale": [
             [
              0,
              "#0d0887"
             ],
             [
              0.1111111111111111,
              "#46039f"
             ],
             [
              0.2222222222222222,
              "#7201a8"
             ],
             [
              0.3333333333333333,
              "#9c179e"
             ],
             [
              0.4444444444444444,
              "#bd3786"
             ],
             [
              0.5555555555555556,
              "#d8576b"
             ],
             [
              0.6666666666666666,
              "#ed7953"
             ],
             [
              0.7777777777777778,
              "#fb9f3a"
             ],
             [
              0.8888888888888888,
              "#fdca26"
             ],
             [
              1,
              "#f0f921"
             ]
            ],
            "type": "heatmapgl"
           }
          ],
          "histogram": [
           {
            "marker": {
             "pattern": {
              "fillmode": "overlay",
              "size": 10,
              "solidity": 0.2
             }
            },
            "type": "histogram"
           }
          ],
          "histogram2d": [
           {
            "colorbar": {
             "outlinewidth": 0,
             "ticks": ""
            },
            "colorscale": [
             [
              0,
              "#0d0887"
             ],
             [
              0.1111111111111111,
              "#46039f"
             ],
             [
              0.2222222222222222,
              "#7201a8"
             ],
             [
              0.3333333333333333,
              "#9c179e"
             ],
             [
              0.4444444444444444,
              "#bd3786"
             ],
             [
              0.5555555555555556,
              "#d8576b"
             ],
             [
              0.6666666666666666,
              "#ed7953"
             ],
             [
              0.7777777777777778,
              "#fb9f3a"
             ],
             [
              0.8888888888888888,
              "#fdca26"
             ],
             [
              1,
              "#f0f921"
             ]
            ],
            "type": "histogram2d"
           }
          ],
          "histogram2dcontour": [
           {
            "colorbar": {
             "outlinewidth": 0,
             "ticks": ""
            },
            "colorscale": [
             [
              0,
              "#0d0887"
             ],
             [
              0.1111111111111111,
              "#46039f"
             ],
             [
              0.2222222222222222,
              "#7201a8"
             ],
             [
              0.3333333333333333,
              "#9c179e"
             ],
             [
              0.4444444444444444,
              "#bd3786"
             ],
             [
              0.5555555555555556,
              "#d8576b"
             ],
             [
              0.6666666666666666,
              "#ed7953"
             ],
             [
              0.7777777777777778,
              "#fb9f3a"
             ],
             [
              0.8888888888888888,
              "#fdca26"
             ],
             [
              1,
              "#f0f921"
             ]
            ],
            "type": "histogram2dcontour"
           }
          ],
          "mesh3d": [
           {
            "colorbar": {
             "outlinewidth": 0,
             "ticks": ""
            },
            "type": "mesh3d"
           }
          ],
          "parcoords": [
           {
            "line": {
             "colorbar": {
              "outlinewidth": 0,
              "ticks": ""
             }
            },
            "type": "parcoords"
           }
          ],
          "pie": [
           {
            "automargin": true,
            "type": "pie"
           }
          ],
          "scatter": [
           {
            "fillpattern": {
             "fillmode": "overlay",
             "size": 10,
             "solidity": 0.2
            },
            "type": "scatter"
           }
          ],
          "scatter3d": [
           {
            "line": {
             "colorbar": {
              "outlinewidth": 0,
              "ticks": ""
             }
            },
            "marker": {
             "colorbar": {
              "outlinewidth": 0,
              "ticks": ""
             }
            },
            "type": "scatter3d"
           }
          ],
          "scattercarpet": [
           {
            "marker": {
             "colorbar": {
              "outlinewidth": 0,
              "ticks": ""
             }
            },
            "type": "scattercarpet"
           }
          ],
          "scattergeo": [
           {
            "marker": {
             "colorbar": {
              "outlinewidth": 0,
              "ticks": ""
             }
            },
            "type": "scattergeo"
           }
          ],
          "scattergl": [
           {
            "marker": {
             "colorbar": {
              "outlinewidth": 0,
              "ticks": ""
             }
            },
            "type": "scattergl"
           }
          ],
          "scattermapbox": [
           {
            "marker": {
             "colorbar": {
              "outlinewidth": 0,
              "ticks": ""
             }
            },
            "type": "scattermapbox"
           }
          ],
          "scatterpolar": [
           {
            "marker": {
             "colorbar": {
              "outlinewidth": 0,
              "ticks": ""
             }
            },
            "type": "scatterpolar"
           }
          ],
          "scatterpolargl": [
           {
            "marker": {
             "colorbar": {
              "outlinewidth": 0,
              "ticks": ""
             }
            },
            "type": "scatterpolargl"
           }
          ],
          "scatterternary": [
           {
            "marker": {
             "colorbar": {
              "outlinewidth": 0,
              "ticks": ""
             }
            },
            "type": "scatterternary"
           }
          ],
          "surface": [
           {
            "colorbar": {
             "outlinewidth": 0,
             "ticks": ""
            },
            "colorscale": [
             [
              0,
              "#0d0887"
             ],
             [
              0.1111111111111111,
              "#46039f"
             ],
             [
              0.2222222222222222,
              "#7201a8"
             ],
             [
              0.3333333333333333,
              "#9c179e"
             ],
             [
              0.4444444444444444,
              "#bd3786"
             ],
             [
              0.5555555555555556,
              "#d8576b"
             ],
             [
              0.6666666666666666,
              "#ed7953"
             ],
             [
              0.7777777777777778,
              "#fb9f3a"
             ],
             [
              0.8888888888888888,
              "#fdca26"
             ],
             [
              1,
              "#f0f921"
             ]
            ],
            "type": "surface"
           }
          ],
          "table": [
           {
            "cells": {
             "fill": {
              "color": "#EBF0F8"
             },
             "line": {
              "color": "white"
             }
            },
            "header": {
             "fill": {
              "color": "#C8D4E3"
             },
             "line": {
              "color": "white"
             }
            },
            "type": "table"
           }
          ]
         },
         "layout": {
          "annotationdefaults": {
           "arrowcolor": "#2a3f5f",
           "arrowhead": 0,
           "arrowwidth": 1
          },
          "autotypenumbers": "strict",
          "coloraxis": {
           "colorbar": {
            "outlinewidth": 0,
            "ticks": ""
           }
          },
          "colorscale": {
           "diverging": [
            [
             0,
             "#8e0152"
            ],
            [
             0.1,
             "#c51b7d"
            ],
            [
             0.2,
             "#de77ae"
            ],
            [
             0.3,
             "#f1b6da"
            ],
            [
             0.4,
             "#fde0ef"
            ],
            [
             0.5,
             "#f7f7f7"
            ],
            [
             0.6,
             "#e6f5d0"
            ],
            [
             0.7,
             "#b8e186"
            ],
            [
             0.8,
             "#7fbc41"
            ],
            [
             0.9,
             "#4d9221"
            ],
            [
             1,
             "#276419"
            ]
           ],
           "sequential": [
            [
             0,
             "#0d0887"
            ],
            [
             0.1111111111111111,
             "#46039f"
            ],
            [
             0.2222222222222222,
             "#7201a8"
            ],
            [
             0.3333333333333333,
             "#9c179e"
            ],
            [
             0.4444444444444444,
             "#bd3786"
            ],
            [
             0.5555555555555556,
             "#d8576b"
            ],
            [
             0.6666666666666666,
             "#ed7953"
            ],
            [
             0.7777777777777778,
             "#fb9f3a"
            ],
            [
             0.8888888888888888,
             "#fdca26"
            ],
            [
             1,
             "#f0f921"
            ]
           ],
           "sequentialminus": [
            [
             0,
             "#0d0887"
            ],
            [
             0.1111111111111111,
             "#46039f"
            ],
            [
             0.2222222222222222,
             "#7201a8"
            ],
            [
             0.3333333333333333,
             "#9c179e"
            ],
            [
             0.4444444444444444,
             "#bd3786"
            ],
            [
             0.5555555555555556,
             "#d8576b"
            ],
            [
             0.6666666666666666,
             "#ed7953"
            ],
            [
             0.7777777777777778,
             "#fb9f3a"
            ],
            [
             0.8888888888888888,
             "#fdca26"
            ],
            [
             1,
             "#f0f921"
            ]
           ]
          },
          "colorway": [
           "#636efa",
           "#EF553B",
           "#00cc96",
           "#ab63fa",
           "#FFA15A",
           "#19d3f3",
           "#FF6692",
           "#B6E880",
           "#FF97FF",
           "#FECB52"
          ],
          "font": {
           "color": "#2a3f5f"
          },
          "geo": {
           "bgcolor": "white",
           "lakecolor": "white",
           "landcolor": "#E5ECF6",
           "showlakes": true,
           "showland": true,
           "subunitcolor": "white"
          },
          "hoverlabel": {
           "align": "left"
          },
          "hovermode": "closest",
          "mapbox": {
           "style": "light"
          },
          "paper_bgcolor": "white",
          "plot_bgcolor": "#E5ECF6",
          "polar": {
           "angularaxis": {
            "gridcolor": "white",
            "linecolor": "white",
            "ticks": ""
           },
           "bgcolor": "#E5ECF6",
           "radialaxis": {
            "gridcolor": "white",
            "linecolor": "white",
            "ticks": ""
           }
          },
          "scene": {
           "xaxis": {
            "backgroundcolor": "#E5ECF6",
            "gridcolor": "white",
            "gridwidth": 2,
            "linecolor": "white",
            "showbackground": true,
            "ticks": "",
            "zerolinecolor": "white"
           },
           "yaxis": {
            "backgroundcolor": "#E5ECF6",
            "gridcolor": "white",
            "gridwidth": 2,
            "linecolor": "white",
            "showbackground": true,
            "ticks": "",
            "zerolinecolor": "white"
           },
           "zaxis": {
            "backgroundcolor": "#E5ECF6",
            "gridcolor": "white",
            "gridwidth": 2,
            "linecolor": "white",
            "showbackground": true,
            "ticks": "",
            "zerolinecolor": "white"
           }
          },
          "shapedefaults": {
           "line": {
            "color": "#2a3f5f"
           }
          },
          "ternary": {
           "aaxis": {
            "gridcolor": "white",
            "linecolor": "white",
            "ticks": ""
           },
           "baxis": {
            "gridcolor": "white",
            "linecolor": "white",
            "ticks": ""
           },
           "bgcolor": "#E5ECF6",
           "caxis": {
            "gridcolor": "white",
            "linecolor": "white",
            "ticks": ""
           }
          },
          "title": {
           "x": 0.05
          },
          "xaxis": {
           "automargin": true,
           "gridcolor": "white",
           "linecolor": "white",
           "ticks": "",
           "title": {
            "standoff": 15
           },
           "zerolinecolor": "white",
           "zerolinewidth": 2
          },
          "yaxis": {
           "automargin": true,
           "gridcolor": "white",
           "linecolor": "white",
           "ticks": "",
           "title": {
            "standoff": 15
           },
           "zerolinecolor": "white",
           "zerolinewidth": 2
          }
         }
        },
        "title": {
         "text": "Visualization of trace prediction models and their accuracy"
        },
        "width": 1000,
        "xaxis": {
         "anchor": "y",
         "domain": [
          0,
          1
         ],
         "title": {
          "text": "model_name"
         }
        },
        "yaxis": {
         "anchor": "x",
         "domain": [
          0,
          1
         ],
         "title": {
          "text": "accuracy"
         }
        }
       }
      }
     },
     "metadata": {},
     "output_type": "display_data"
    }
   ],
   "source": [
    "px.scatter(models_scores_event_df, x = 'model_name', y = 'accuracy', color = 'model_type',\n",
    "           labels = {\n",
    "                      'model': 'Trace prediciton Models',\n",
    "                      'score': 'Accuracy (%)'},\n",
    "                  title = 'Visualization of trace prediction models and their accuracy',\n",
    "                  width=1000,\n",
    "                  height=500)"
   ]
  },
  {
   "cell_type": "code",
   "execution_count": null,
   "metadata": {},
   "outputs": [],
   "source": [
    "models_scores_time_df['model_type'] = models_scores_time_df['model_name'].apply(lambda x: 'Random Forest' if 'rfr' in x else 'XGBoost')"
   ]
  },
  {
   "cell_type": "code",
   "execution_count": null,
   "metadata": {},
   "outputs": [
    {
     "data": {
      "text/html": [
       "<div>\n",
       "<style scoped>\n",
       "    .dataframe tbody tr th:only-of-type {\n",
       "        vertical-align: middle;\n",
       "    }\n",
       "\n",
       "    .dataframe tbody tr th {\n",
       "        vertical-align: top;\n",
       "    }\n",
       "\n",
       "    .dataframe thead th {\n",
       "        text-align: right;\n",
       "    }\n",
       "</style>\n",
       "<table border=\"1\" class=\"dataframe\">\n",
       "  <thead>\n",
       "    <tr style=\"text-align: right;\">\n",
       "      <th></th>\n",
       "      <th>model_name</th>\n",
       "      <th>MAE</th>\n",
       "      <th>model_type</th>\n",
       "    </tr>\n",
       "  </thead>\n",
       "  <tbody>\n",
       "    <tr>\n",
       "      <th>0</th>\n",
       "      <td>next_activity_time_prediction_rfr_1</td>\n",
       "      <td>5.812147</td>\n",
       "      <td>Random Forest</td>\n",
       "    </tr>\n",
       "    <tr>\n",
       "      <th>1</th>\n",
       "      <td>next_activity_time_prediction_rfr_2</td>\n",
       "      <td>5.823729</td>\n",
       "      <td>Random Forest</td>\n",
       "    </tr>\n",
       "    <tr>\n",
       "      <th>2</th>\n",
       "      <td>next_activity_time_prediction_rfr_3</td>\n",
       "      <td>5.852807</td>\n",
       "      <td>Random Forest</td>\n",
       "    </tr>\n",
       "    <tr>\n",
       "      <th>3</th>\n",
       "      <td>next_activity_time_prediction_rfr_4</td>\n",
       "      <td>5.838098</td>\n",
       "      <td>Random Forest</td>\n",
       "    </tr>\n",
       "    <tr>\n",
       "      <th>4</th>\n",
       "      <td>next_activity_time_prediction_rfr_5</td>\n",
       "      <td>5.816754</td>\n",
       "      <td>Random Forest</td>\n",
       "    </tr>\n",
       "    <tr>\n",
       "      <th>5</th>\n",
       "      <td>next_activity_time_prediction_rfr_6</td>\n",
       "      <td>5.832971</td>\n",
       "      <td>Random Forest</td>\n",
       "    </tr>\n",
       "    <tr>\n",
       "      <th>6</th>\n",
       "      <td>next_activity_time_prediction_rfr_7</td>\n",
       "      <td>5.850502</td>\n",
       "      <td>Random Forest</td>\n",
       "    </tr>\n",
       "    <tr>\n",
       "      <th>7</th>\n",
       "      <td>next_activity_time_prediction_rfr_8</td>\n",
       "      <td>5.830078</td>\n",
       "      <td>Random Forest</td>\n",
       "    </tr>\n",
       "    <tr>\n",
       "      <th>8</th>\n",
       "      <td>next_activity_time_prediction_rfr_9</td>\n",
       "      <td>5.834800</td>\n",
       "      <td>Random Forest</td>\n",
       "    </tr>\n",
       "    <tr>\n",
       "      <th>9</th>\n",
       "      <td>next_activity_time_prediction_rfr_10</td>\n",
       "      <td>5.824994</td>\n",
       "      <td>Random Forest</td>\n",
       "    </tr>\n",
       "    <tr>\n",
       "      <th>10</th>\n",
       "      <td>next_activity_time_prediction_xgbr_1</td>\n",
       "      <td>6.330300</td>\n",
       "      <td>XGBoost</td>\n",
       "    </tr>\n",
       "    <tr>\n",
       "      <th>11</th>\n",
       "      <td>next_activity_time_prediction_xgbr_2</td>\n",
       "      <td>6.646570</td>\n",
       "      <td>XGBoost</td>\n",
       "    </tr>\n",
       "    <tr>\n",
       "      <th>12</th>\n",
       "      <td>next_activity_time_prediction_xgbr_3</td>\n",
       "      <td>5.775976</td>\n",
       "      <td>XGBoost</td>\n",
       "    </tr>\n",
       "    <tr>\n",
       "      <th>13</th>\n",
       "      <td>next_activity_time_prediction_xgbr_4</td>\n",
       "      <td>5.836378</td>\n",
       "      <td>XGBoost</td>\n",
       "    </tr>\n",
       "    <tr>\n",
       "      <th>14</th>\n",
       "      <td>next_activity_time_prediction_xgbr_5</td>\n",
       "      <td>5.772754</td>\n",
       "      <td>XGBoost</td>\n",
       "    </tr>\n",
       "    <tr>\n",
       "      <th>15</th>\n",
       "      <td>next_activity_time_prediction_xgbr_6</td>\n",
       "      <td>6.069838</td>\n",
       "      <td>XGBoost</td>\n",
       "    </tr>\n",
       "    <tr>\n",
       "      <th>16</th>\n",
       "      <td>next_activity_time_prediction_xgbr_7</td>\n",
       "      <td>5.884437</td>\n",
       "      <td>XGBoost</td>\n",
       "    </tr>\n",
       "    <tr>\n",
       "      <th>17</th>\n",
       "      <td>next_activity_time_prediction_xgbr_8</td>\n",
       "      <td>5.773096</td>\n",
       "      <td>XGBoost</td>\n",
       "    </tr>\n",
       "    <tr>\n",
       "      <th>18</th>\n",
       "      <td>next_activity_time_prediction_xgbr_9</td>\n",
       "      <td>5.714432</td>\n",
       "      <td>XGBoost</td>\n",
       "    </tr>\n",
       "    <tr>\n",
       "      <th>19</th>\n",
       "      <td>next_activity_time_prediction_xgbr_10</td>\n",
       "      <td>5.733679</td>\n",
       "      <td>XGBoost</td>\n",
       "    </tr>\n",
       "  </tbody>\n",
       "</table>\n",
       "</div>"
      ],
      "text/plain": [
       "                               model_name       MAE     model_type\n",
       "0     next_activity_time_prediction_rfr_1  5.812147  Random Forest\n",
       "1     next_activity_time_prediction_rfr_2  5.823729  Random Forest\n",
       "2     next_activity_time_prediction_rfr_3  5.852807  Random Forest\n",
       "3     next_activity_time_prediction_rfr_4  5.838098  Random Forest\n",
       "4     next_activity_time_prediction_rfr_5  5.816754  Random Forest\n",
       "5     next_activity_time_prediction_rfr_6  5.832971  Random Forest\n",
       "6     next_activity_time_prediction_rfr_7  5.850502  Random Forest\n",
       "7     next_activity_time_prediction_rfr_8  5.830078  Random Forest\n",
       "8     next_activity_time_prediction_rfr_9  5.834800  Random Forest\n",
       "9    next_activity_time_prediction_rfr_10  5.824994  Random Forest\n",
       "10   next_activity_time_prediction_xgbr_1  6.330300        XGBoost\n",
       "11   next_activity_time_prediction_xgbr_2  6.646570        XGBoost\n",
       "12   next_activity_time_prediction_xgbr_3  5.775976        XGBoost\n",
       "13   next_activity_time_prediction_xgbr_4  5.836378        XGBoost\n",
       "14   next_activity_time_prediction_xgbr_5  5.772754        XGBoost\n",
       "15   next_activity_time_prediction_xgbr_6  6.069838        XGBoost\n",
       "16   next_activity_time_prediction_xgbr_7  5.884437        XGBoost\n",
       "17   next_activity_time_prediction_xgbr_8  5.773096        XGBoost\n",
       "18   next_activity_time_prediction_xgbr_9  5.714432        XGBoost\n",
       "19  next_activity_time_prediction_xgbr_10  5.733679        XGBoost"
      ]
     },
     "execution_count": 97,
     "metadata": {},
     "output_type": "execute_result"
    }
   ],
   "source": [
    "models_scores_time_df"
   ]
  },
  {
   "cell_type": "code",
   "execution_count": null,
   "metadata": {},
   "outputs": [
    {
     "data": {
      "application/vnd.plotly.v1+json": {
       "config": {
        "plotlyServerURL": "https://plot.ly"
       },
       "data": [
        {
         "hovertemplate": "model_type=Random Forest<br>Time prediciton models=%{x}<br>Mean Absolute Error (in hours)=%{y}<extra></extra>",
         "legendgroup": "Random Forest",
         "marker": {
          "color": "#636efa",
          "symbol": "circle"
         },
         "mode": "markers",
         "name": "Random Forest",
         "orientation": "v",
         "showlegend": true,
         "type": "scatter",
         "x": [
          "next_activity_time_prediction_rfr_1",
          "next_activity_time_prediction_rfr_2",
          "next_activity_time_prediction_rfr_3",
          "next_activity_time_prediction_rfr_4",
          "next_activity_time_prediction_rfr_5",
          "next_activity_time_prediction_rfr_6",
          "next_activity_time_prediction_rfr_7",
          "next_activity_time_prediction_rfr_8",
          "next_activity_time_prediction_rfr_9",
          "next_activity_time_prediction_rfr_10"
         ],
         "xaxis": "x",
         "y": [
          5.812147222222222,
          5.823728888888889,
          5.852807222222222,
          5.838098333333333,
          5.816754166666667,
          5.832970833333333,
          5.850501666666667,
          5.8300777777777775,
          5.834799722222222,
          5.8249941666666665
         ],
         "yaxis": "y"
        },
        {
         "hovertemplate": "model_type=XGBoost<br>Time prediciton models=%{x}<br>Mean Absolute Error (in hours)=%{y}<extra></extra>",
         "legendgroup": "XGBoost",
         "marker": {
          "color": "#EF553B",
          "symbol": "circle"
         },
         "mode": "markers",
         "name": "XGBoost",
         "orientation": "v",
         "showlegend": true,
         "type": "scatter",
         "x": [
          "next_activity_time_prediction_xgbr_1",
          "next_activity_time_prediction_xgbr_2",
          "next_activity_time_prediction_xgbr_3",
          "next_activity_time_prediction_xgbr_4",
          "next_activity_time_prediction_xgbr_5",
          "next_activity_time_prediction_xgbr_6",
          "next_activity_time_prediction_xgbr_7",
          "next_activity_time_prediction_xgbr_8",
          "next_activity_time_prediction_xgbr_9",
          "next_activity_time_prediction_xgbr_10"
         ],
         "xaxis": "x",
         "y": [
          6.330299722222223,
          6.646569722222223,
          5.775976388888889,
          5.8363780555555556,
          5.772753611111111,
          6.069837777777778,
          5.884436944444445,
          5.773096111111111,
          5.714431944444445,
          5.733678888888889
         ],
         "yaxis": "y"
        }
       ],
       "layout": {
        "height": 500,
        "legend": {
         "title": {
          "text": "model_type"
         },
         "tracegroupgap": 0
        },
        "template": {
         "data": {
          "bar": [
           {
            "error_x": {
             "color": "#2a3f5f"
            },
            "error_y": {
             "color": "#2a3f5f"
            },
            "marker": {
             "line": {
              "color": "#E5ECF6",
              "width": 0.5
             },
             "pattern": {
              "fillmode": "overlay",
              "size": 10,
              "solidity": 0.2
             }
            },
            "type": "bar"
           }
          ],
          "barpolar": [
           {
            "marker": {
             "line": {
              "color": "#E5ECF6",
              "width": 0.5
             },
             "pattern": {
              "fillmode": "overlay",
              "size": 10,
              "solidity": 0.2
             }
            },
            "type": "barpolar"
           }
          ],
          "carpet": [
           {
            "aaxis": {
             "endlinecolor": "#2a3f5f",
             "gridcolor": "white",
             "linecolor": "white",
             "minorgridcolor": "white",
             "startlinecolor": "#2a3f5f"
            },
            "baxis": {
             "endlinecolor": "#2a3f5f",
             "gridcolor": "white",
             "linecolor": "white",
             "minorgridcolor": "white",
             "startlinecolor": "#2a3f5f"
            },
            "type": "carpet"
           }
          ],
          "choropleth": [
           {
            "colorbar": {
             "outlinewidth": 0,
             "ticks": ""
            },
            "type": "choropleth"
           }
          ],
          "contour": [
           {
            "colorbar": {
             "outlinewidth": 0,
             "ticks": ""
            },
            "colorscale": [
             [
              0,
              "#0d0887"
             ],
             [
              0.1111111111111111,
              "#46039f"
             ],
             [
              0.2222222222222222,
              "#7201a8"
             ],
             [
              0.3333333333333333,
              "#9c179e"
             ],
             [
              0.4444444444444444,
              "#bd3786"
             ],
             [
              0.5555555555555556,
              "#d8576b"
             ],
             [
              0.6666666666666666,
              "#ed7953"
             ],
             [
              0.7777777777777778,
              "#fb9f3a"
             ],
             [
              0.8888888888888888,
              "#fdca26"
             ],
             [
              1,
              "#f0f921"
             ]
            ],
            "type": "contour"
           }
          ],
          "contourcarpet": [
           {
            "colorbar": {
             "outlinewidth": 0,
             "ticks": ""
            },
            "type": "contourcarpet"
           }
          ],
          "heatmap": [
           {
            "colorbar": {
             "outlinewidth": 0,
             "ticks": ""
            },
            "colorscale": [
             [
              0,
              "#0d0887"
             ],
             [
              0.1111111111111111,
              "#46039f"
             ],
             [
              0.2222222222222222,
              "#7201a8"
             ],
             [
              0.3333333333333333,
              "#9c179e"
             ],
             [
              0.4444444444444444,
              "#bd3786"
             ],
             [
              0.5555555555555556,
              "#d8576b"
             ],
             [
              0.6666666666666666,
              "#ed7953"
             ],
             [
              0.7777777777777778,
              "#fb9f3a"
             ],
             [
              0.8888888888888888,
              "#fdca26"
             ],
             [
              1,
              "#f0f921"
             ]
            ],
            "type": "heatmap"
           }
          ],
          "heatmapgl": [
           {
            "colorbar": {
             "outlinewidth": 0,
             "ticks": ""
            },
            "colorscale": [
             [
              0,
              "#0d0887"
             ],
             [
              0.1111111111111111,
              "#46039f"
             ],
             [
              0.2222222222222222,
              "#7201a8"
             ],
             [
              0.3333333333333333,
              "#9c179e"
             ],
             [
              0.4444444444444444,
              "#bd3786"
             ],
             [
              0.5555555555555556,
              "#d8576b"
             ],
             [
              0.6666666666666666,
              "#ed7953"
             ],
             [
              0.7777777777777778,
              "#fb9f3a"
             ],
             [
              0.8888888888888888,
              "#fdca26"
             ],
             [
              1,
              "#f0f921"
             ]
            ],
            "type": "heatmapgl"
           }
          ],
          "histogram": [
           {
            "marker": {
             "pattern": {
              "fillmode": "overlay",
              "size": 10,
              "solidity": 0.2
             }
            },
            "type": "histogram"
           }
          ],
          "histogram2d": [
           {
            "colorbar": {
             "outlinewidth": 0,
             "ticks": ""
            },
            "colorscale": [
             [
              0,
              "#0d0887"
             ],
             [
              0.1111111111111111,
              "#46039f"
             ],
             [
              0.2222222222222222,
              "#7201a8"
             ],
             [
              0.3333333333333333,
              "#9c179e"
             ],
             [
              0.4444444444444444,
              "#bd3786"
             ],
             [
              0.5555555555555556,
              "#d8576b"
             ],
             [
              0.6666666666666666,
              "#ed7953"
             ],
             [
              0.7777777777777778,
              "#fb9f3a"
             ],
             [
              0.8888888888888888,
              "#fdca26"
             ],
             [
              1,
              "#f0f921"
             ]
            ],
            "type": "histogram2d"
           }
          ],
          "histogram2dcontour": [
           {
            "colorbar": {
             "outlinewidth": 0,
             "ticks": ""
            },
            "colorscale": [
             [
              0,
              "#0d0887"
             ],
             [
              0.1111111111111111,
              "#46039f"
             ],
             [
              0.2222222222222222,
              "#7201a8"
             ],
             [
              0.3333333333333333,
              "#9c179e"
             ],
             [
              0.4444444444444444,
              "#bd3786"
             ],
             [
              0.5555555555555556,
              "#d8576b"
             ],
             [
              0.6666666666666666,
              "#ed7953"
             ],
             [
              0.7777777777777778,
              "#fb9f3a"
             ],
             [
              0.8888888888888888,
              "#fdca26"
             ],
             [
              1,
              "#f0f921"
             ]
            ],
            "type": "histogram2dcontour"
           }
          ],
          "mesh3d": [
           {
            "colorbar": {
             "outlinewidth": 0,
             "ticks": ""
            },
            "type": "mesh3d"
           }
          ],
          "parcoords": [
           {
            "line": {
             "colorbar": {
              "outlinewidth": 0,
              "ticks": ""
             }
            },
            "type": "parcoords"
           }
          ],
          "pie": [
           {
            "automargin": true,
            "type": "pie"
           }
          ],
          "scatter": [
           {
            "fillpattern": {
             "fillmode": "overlay",
             "size": 10,
             "solidity": 0.2
            },
            "type": "scatter"
           }
          ],
          "scatter3d": [
           {
            "line": {
             "colorbar": {
              "outlinewidth": 0,
              "ticks": ""
             }
            },
            "marker": {
             "colorbar": {
              "outlinewidth": 0,
              "ticks": ""
             }
            },
            "type": "scatter3d"
           }
          ],
          "scattercarpet": [
           {
            "marker": {
             "colorbar": {
              "outlinewidth": 0,
              "ticks": ""
             }
            },
            "type": "scattercarpet"
           }
          ],
          "scattergeo": [
           {
            "marker": {
             "colorbar": {
              "outlinewidth": 0,
              "ticks": ""
             }
            },
            "type": "scattergeo"
           }
          ],
          "scattergl": [
           {
            "marker": {
             "colorbar": {
              "outlinewidth": 0,
              "ticks": ""
             }
            },
            "type": "scattergl"
           }
          ],
          "scattermapbox": [
           {
            "marker": {
             "colorbar": {
              "outlinewidth": 0,
              "ticks": ""
             }
            },
            "type": "scattermapbox"
           }
          ],
          "scatterpolar": [
           {
            "marker": {
             "colorbar": {
              "outlinewidth": 0,
              "ticks": ""
             }
            },
            "type": "scatterpolar"
           }
          ],
          "scatterpolargl": [
           {
            "marker": {
             "colorbar": {
              "outlinewidth": 0,
              "ticks": ""
             }
            },
            "type": "scatterpolargl"
           }
          ],
          "scatterternary": [
           {
            "marker": {
             "colorbar": {
              "outlinewidth": 0,
              "ticks": ""
             }
            },
            "type": "scatterternary"
           }
          ],
          "surface": [
           {
            "colorbar": {
             "outlinewidth": 0,
             "ticks": ""
            },
            "colorscale": [
             [
              0,
              "#0d0887"
             ],
             [
              0.1111111111111111,
              "#46039f"
             ],
             [
              0.2222222222222222,
              "#7201a8"
             ],
             [
              0.3333333333333333,
              "#9c179e"
             ],
             [
              0.4444444444444444,
              "#bd3786"
             ],
             [
              0.5555555555555556,
              "#d8576b"
             ],
             [
              0.6666666666666666,
              "#ed7953"
             ],
             [
              0.7777777777777778,
              "#fb9f3a"
             ],
             [
              0.8888888888888888,
              "#fdca26"
             ],
             [
              1,
              "#f0f921"
             ]
            ],
            "type": "surface"
           }
          ],
          "table": [
           {
            "cells": {
             "fill": {
              "color": "#EBF0F8"
             },
             "line": {
              "color": "white"
             }
            },
            "header": {
             "fill": {
              "color": "#C8D4E3"
             },
             "line": {
              "color": "white"
             }
            },
            "type": "table"
           }
          ]
         },
         "layout": {
          "annotationdefaults": {
           "arrowcolor": "#2a3f5f",
           "arrowhead": 0,
           "arrowwidth": 1
          },
          "autotypenumbers": "strict",
          "coloraxis": {
           "colorbar": {
            "outlinewidth": 0,
            "ticks": ""
           }
          },
          "colorscale": {
           "diverging": [
            [
             0,
             "#8e0152"
            ],
            [
             0.1,
             "#c51b7d"
            ],
            [
             0.2,
             "#de77ae"
            ],
            [
             0.3,
             "#f1b6da"
            ],
            [
             0.4,
             "#fde0ef"
            ],
            [
             0.5,
             "#f7f7f7"
            ],
            [
             0.6,
             "#e6f5d0"
            ],
            [
             0.7,
             "#b8e186"
            ],
            [
             0.8,
             "#7fbc41"
            ],
            [
             0.9,
             "#4d9221"
            ],
            [
             1,
             "#276419"
            ]
           ],
           "sequential": [
            [
             0,
             "#0d0887"
            ],
            [
             0.1111111111111111,
             "#46039f"
            ],
            [
             0.2222222222222222,
             "#7201a8"
            ],
            [
             0.3333333333333333,
             "#9c179e"
            ],
            [
             0.4444444444444444,
             "#bd3786"
            ],
            [
             0.5555555555555556,
             "#d8576b"
            ],
            [
             0.6666666666666666,
             "#ed7953"
            ],
            [
             0.7777777777777778,
             "#fb9f3a"
            ],
            [
             0.8888888888888888,
             "#fdca26"
            ],
            [
             1,
             "#f0f921"
            ]
           ],
           "sequentialminus": [
            [
             0,
             "#0d0887"
            ],
            [
             0.1111111111111111,
             "#46039f"
            ],
            [
             0.2222222222222222,
             "#7201a8"
            ],
            [
             0.3333333333333333,
             "#9c179e"
            ],
            [
             0.4444444444444444,
             "#bd3786"
            ],
            [
             0.5555555555555556,
             "#d8576b"
            ],
            [
             0.6666666666666666,
             "#ed7953"
            ],
            [
             0.7777777777777778,
             "#fb9f3a"
            ],
            [
             0.8888888888888888,
             "#fdca26"
            ],
            [
             1,
             "#f0f921"
            ]
           ]
          },
          "colorway": [
           "#636efa",
           "#EF553B",
           "#00cc96",
           "#ab63fa",
           "#FFA15A",
           "#19d3f3",
           "#FF6692",
           "#B6E880",
           "#FF97FF",
           "#FECB52"
          ],
          "font": {
           "color": "#2a3f5f"
          },
          "geo": {
           "bgcolor": "white",
           "lakecolor": "white",
           "landcolor": "#E5ECF6",
           "showlakes": true,
           "showland": true,
           "subunitcolor": "white"
          },
          "hoverlabel": {
           "align": "left"
          },
          "hovermode": "closest",
          "mapbox": {
           "style": "light"
          },
          "paper_bgcolor": "white",
          "plot_bgcolor": "#E5ECF6",
          "polar": {
           "angularaxis": {
            "gridcolor": "white",
            "linecolor": "white",
            "ticks": ""
           },
           "bgcolor": "#E5ECF6",
           "radialaxis": {
            "gridcolor": "white",
            "linecolor": "white",
            "ticks": ""
           }
          },
          "scene": {
           "xaxis": {
            "backgroundcolor": "#E5ECF6",
            "gridcolor": "white",
            "gridwidth": 2,
            "linecolor": "white",
            "showbackground": true,
            "ticks": "",
            "zerolinecolor": "white"
           },
           "yaxis": {
            "backgroundcolor": "#E5ECF6",
            "gridcolor": "white",
            "gridwidth": 2,
            "linecolor": "white",
            "showbackground": true,
            "ticks": "",
            "zerolinecolor": "white"
           },
           "zaxis": {
            "backgroundcolor": "#E5ECF6",
            "gridcolor": "white",
            "gridwidth": 2,
            "linecolor": "white",
            "showbackground": true,
            "ticks": "",
            "zerolinecolor": "white"
           }
          },
          "shapedefaults": {
           "line": {
            "color": "#2a3f5f"
           }
          },
          "ternary": {
           "aaxis": {
            "gridcolor": "white",
            "linecolor": "white",
            "ticks": ""
           },
           "baxis": {
            "gridcolor": "white",
            "linecolor": "white",
            "ticks": ""
           },
           "bgcolor": "#E5ECF6",
           "caxis": {
            "gridcolor": "white",
            "linecolor": "white",
            "ticks": ""
           }
          },
          "title": {
           "x": 0.05
          },
          "xaxis": {
           "automargin": true,
           "gridcolor": "white",
           "linecolor": "white",
           "ticks": "",
           "title": {
            "standoff": 15
           },
           "zerolinecolor": "white",
           "zerolinewidth": 2
          },
          "yaxis": {
           "automargin": true,
           "gridcolor": "white",
           "linecolor": "white",
           "ticks": "",
           "title": {
            "standoff": 15
           },
           "zerolinecolor": "white",
           "zerolinewidth": 2
          }
         }
        },
        "title": {
         "text": "Visualization of MAE of time prediction models in hours (higher means worse)"
        },
        "width": 1000,
        "xaxis": {
         "anchor": "y",
         "domain": [
          0,
          1
         ],
         "title": {
          "text": "Time prediciton models"
         }
        },
        "yaxis": {
         "anchor": "x",
         "domain": [
          0,
          1
         ],
         "title": {
          "text": "Mean Absolute Error (in hours)"
         }
        }
       }
      }
     },
     "metadata": {},
     "output_type": "display_data"
    }
   ],
   "source": [
    "px.scatter(models_scores_time_df, x = 'model_name', y = 'MAE', color = 'model_type',\n",
    "           labels = {\n",
    "                      'model_name': 'Time prediciton models',\n",
    "                      'MAE': 'Mean Absolute Error (in hours)'},\n",
    "                  title = 'Visualization of MAE of time prediction models in hours (higher means worse)',\n",
    "                  width=1000,\n",
    "                  height=500)"
   ]
  },
  {
   "cell_type": "code",
   "execution_count": null,
   "metadata": {},
   "outputs": [],
   "source": []
  }
 ],
 "metadata": {
  "kernelspec": {
   "display_name": "Python 3",
   "language": "python",
   "name": "python3"
  },
  "language_info": {
   "codemirror_mode": {
    "name": "ipython",
    "version": 3
   },
   "file_extension": ".py",
   "mimetype": "text/x-python",
   "name": "python",
   "nbconvert_exporter": "python",
   "pygments_lexer": "ipython3",
   "version": "3.12.0"
  },
  "orig_nbformat": 4
 },
 "nbformat": 4,
 "nbformat_minor": 2
}
