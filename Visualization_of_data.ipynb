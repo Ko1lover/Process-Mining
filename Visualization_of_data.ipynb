{
 "cells": [
  {
   "attachments": {},
   "cell_type": "markdown",
   "metadata": {},
   "source": [
    "# Import of necessary libraries"
   ]
  },
  {
   "cell_type": "code",
   "execution_count": null,
   "metadata": {},
   "outputs": [],
   "source": [
    "from Split_functions import data_split_viz"
   ]
  },
  {
   "cell_type": "code",
   "execution_count": null,
   "metadata": {},
   "outputs": [],
   "source": [
    "import pandas as pd\n",
    "\n",
    "from sklearn.preprocessing import LabelEncoder\n",
    "\n",
    "import pm4py as pm4\n",
    "\n",
    "import plotly.express as px\n",
    "import seaborn as sns"
   ]
  },
  {
   "attachments": {},
   "cell_type": "markdown",
   "metadata": {},
   "source": [
    "# Data loading"
   ]
  },
  {
   "cell_type": "code",
   "execution_count": null,
   "metadata": {},
   "outputs": [],
   "source": [
    "df = pd.read_csv('cleaned_data.csv')\n",
    "df.head()"
   ]
  },
  {
   "attachments": {},
   "cell_type": "markdown",
   "metadata": {},
   "source": [
    "# Feature engineering"
   ]
  },
  {
   "cell_type": "code",
   "execution_count": null,
   "metadata": {},
   "outputs": [],
   "source": [
    "df['next_activity'] = df.groupby('case:concept:name')['concept:name'].shift(-1)\n",
    "df['previous_activity1'] = df.groupby('case:concept:name')['concept:name'].shift(1)\n",
    "df['previous_activity2'] = df.groupby('case:concept:name')['concept:name'].shift(2)\n",
    "\n",
    "le = LabelEncoder()\n",
    "df['current_activity_encoded'] = le.fit(df['concept:name']).transform(df['concept:name'])\n",
    "df['next_activity_encoded'] = le.fit(df['next_activity']).transform(df['next_activity'])\n",
    "df['previous_activity1_encoded'] = le.fit(df['previous_activity1']).transform(df['previous_activity1'])\n",
    "df['previous_activity2_encoded'] = le.fit(df['previous_activity2']).transform(df['previous_activity2'])"
   ]
  },
  {
   "cell_type": "code",
   "execution_count": null,
   "metadata": {},
   "outputs": [],
   "source": [
    "predictor = df[['current_activity_encoded', 'previous_activity1_encoded', 'previous_activity2_encoded', 'case:concept:name', 'concept:name', 'time:timestamp']]\n",
    "target = df[['next_activity_encoded', 'case:concept:name', 'time:timestamp']]\n",
    "train_size = 0.8"
   ]
  },
  {
   "cell_type": "code",
   "execution_count": null,
   "metadata": {},
   "outputs": [],
   "source": [
    "X, X_test, y, y_test, drop_set = data_split_viz(predictor, target, train_size)"
   ]
  },
  {
   "cell_type": "code",
   "execution_count": null,
   "metadata": {},
   "outputs": [],
   "source": [
    "X.reset_index(inplace = True)\n",
    "X_test.reset_index(inplace = True)"
   ]
  },
  {
   "cell_type": "code",
   "execution_count": null,
   "metadata": {},
   "outputs": [],
   "source": [
    "dz = df.reset_index()"
   ]
  },
  {
   "attachments": {},
   "cell_type": "markdown",
   "metadata": {},
   "source": [
    "### Showcasing the data (triain and test) before deleting intersecting applications"
   ]
  },
  {
   "cell_type": "code",
   "execution_count": null,
   "metadata": {},
   "outputs": [],
   "source": [
    "fig1 = px.scatter(dz, x = 'time:timestamp', y = 'index', color = 'concept:name', \n",
    "                  labels = {\n",
    "                      'time:timestamp': 'Time (2011-2012)',\n",
    "                      'case:concept:name': 'Concept name and case number',\n",
    "                      'index': 'Index of the trace'\n",
    "                  },\n",
    "                  title = 'Depiction of the BPI Challenge 2012 data',\n",
    "                  width=1100, height=600)\n",
    "fig1.add_vline(x=pd.to_datetime(X['time:timestamp'].max()), line_width=1, line_dash=\"dash\", line_color=\"black\")\n",
    "fig1.add_hline(y= X_test.head(1)['index'].iloc[0], line_width=1, line_dash=\"dash\", line_color=\"black\")\n",
    "fig1.add_annotation(text = 'Training Data', x = pd.to_datetime('2011-11-06'), y = 60000)\n",
    "fig1.add_annotation(text = 'Test Data', x = pd.to_datetime('2012-02-24'), y = 250000)\n",
    "fig1.show();"
   ]
  },
  {
   "attachments": {},
   "cell_type": "markdown",
   "metadata": {},
   "source": [
    "### Showcasing the data (triain and test) after deleting intersecting applications"
   ]
  },
  {
   "cell_type": "code",
   "execution_count": null,
   "metadata": {},
   "outputs": [],
   "source": [
    "concated = pd.concat([X, X_test])\n",
    "concated.sort_values(by = 'case:concept:name', inplace = True)\n",
    "concated = concated.reset_index()"
   ]
  },
  {
   "cell_type": "code",
   "execution_count": null,
   "metadata": {},
   "outputs": [],
   "source": [
    "# concated = pd.concat([X])\n",
    "fig = px.scatter(concated, x = 'time:timestamp', y = 'index', color = 'concept:name', \n",
    "                  labels = {\n",
    "                      'time:timestamp': 'Time (2011-2012)',\n",
    "                      'index': 'Index of the trace',\n",
    "                      'concept:name': 'Concept Name'\n",
    "                  },\n",
    "                  title = 'Cleaned Train Test split of BPI Challenge 2012'\n",
    "                  , width=1100, height=600)\n",
    "fig.add_vline(x=pd.to_datetime(X['time:timestamp'].max()), line_width=1, line_dash=\"dash\", line_color=\"black\")\n",
    "fig.add_hline(y= X_test.head(1)['index'].iloc[0], line_width=1, line_dash=\"dash\", line_color=\"black\")\n",
    "fig.add_annotation(text = 'Training Data', x = pd.to_datetime('2011-11-06'), y = 60000)\n",
    "fig.add_annotation(text = 'Test Data', x = pd.to_datetime('2012-02-24'), y = 250000)\n",
    "# fig.update_layout(showlegend=False)\n",
    "fig.show();"
   ]
  },
  {
   "attachments": {},
   "cell_type": "markdown",
   "metadata": {},
   "source": [
    "### Showcasing which events were in both test and train time frames and had to be deleted"
   ]
  },
  {
   "cell_type": "code",
   "execution_count": null,
   "metadata": {},
   "outputs": [],
   "source": [
    "df['is_depreciated'] = df['case:concept:name'].apply(lambda x: 'Deleted' if (x in(drop_set)) else 'Used')"
   ]
  },
  {
   "cell_type": "code",
   "execution_count": null,
   "metadata": {},
   "outputs": [],
   "source": [
    "dr = df.reset_index()"
   ]
  },
  {
   "cell_type": "code",
   "execution_count": null,
   "metadata": {},
   "outputs": [],
   "source": [
    "fig1 = px.scatter(dr, x = 'time:timestamp', y = 'index', color = 'is_depreciated', color_continuous_scale = 'YlGn', \n",
    "                  labels = {\n",
    "                      'time:timestamp': 'Time (2011-2012)',\n",
    "                      'index': 'Index of the trace',\n",
    "                      'is_depreciated': 'Case Concept Name:'},\n",
    "                  title = 'Deletion of traces which overlap in the test time set',\n",
    "                  width=1100,\n",
    "                  height=600)\n",
    "fig1.add_vline(x=pd.to_datetime(X['time:timestamp'].max()), line_width=1, line_dash=\"dash\", line_color=\"black\")\n",
    "fig1.add_hline(y= X_test.head(1)['index'].iloc[0], line_width=1, line_dash=\"dash\", line_color=\"black\")\n",
    "fig1.add_annotation(text = 'Training Data', x = pd.to_datetime('2011-11-06'), y = 60000)\n",
    "fig1.add_annotation(text = 'Test Data', x = pd.to_datetime('2012-02-24'), y = 250000)\n",
    "# fig1.update_coloraxes(showscale=False)\n",
    "fig1.show();"
   ]
  },
  {
   "cell_type": "code",
   "execution_count": null,
   "metadata": {},
   "outputs": [],
   "source": [
    "df['day'] = df['time:timestamp'].dt.day"
   ]
  },
  {
   "cell_type": "code",
   "execution_count": null,
   "metadata": {},
   "outputs": [],
   "source": [
    "gl = df.drop_duplicates(subset = ['case:concept:name'], keep = 'last')"
   ]
  },
  {
   "cell_type": "code",
   "execution_count": null,
   "metadata": {},
   "outputs": [],
   "source": [
    "gl['concept:name'].unique()"
   ]
  },
  {
   "attachments": {},
   "cell_type": "markdown",
   "metadata": {},
   "source": [
    "### Distribution of event types in the data by which the trace ends"
   ]
  },
  {
   "cell_type": "code",
   "execution_count": null,
   "metadata": {},
   "outputs": [],
   "source": [
    "px.histogram(gl['concept:name'])"
   ]
  },
  {
   "attachments": {},
   "cell_type": "markdown",
   "metadata": {},
   "source": [
    "### Distribution of event type in the data by which the trace starts"
   ]
  },
  {
   "cell_type": "code",
   "execution_count": null,
   "metadata": {},
   "outputs": [],
   "source": [
    "hf = df.drop_duplicates(subset = ['case:concept:name'], keep = 'first')"
   ]
  },
  {
   "cell_type": "code",
   "execution_count": null,
   "metadata": {},
   "outputs": [],
   "source": [
    "px.histogram(hf['concept:name'])"
   ]
  },
  {
   "attachments": {},
   "cell_type": "markdown",
   "metadata": {},
   "source": [
    "### Visualization of the all possible traces via pm4 library"
   ]
  },
  {
   "cell_type": "code",
   "execution_count": null,
   "metadata": {},
   "outputs": [],
   "source": [
    "log = pm4.read_xes('BPI_Challenge_2012.xes.gz')\n",
    "\n",
    "map = pm4.discover_heuristics_net(log)\n",
    "pm4.view_heuristics_net(map)"
   ]
  }
 ],
 "metadata": {
  "kernelspec": {
   "display_name": "Python 3",
   "language": "python",
   "name": "python3"
  },
  "language_info": {
   "codemirror_mode": {
    "name": "ipython",
    "version": 3
   },
   "file_extension": ".py",
   "mimetype": "text/x-python",
   "name": "python",
   "nbconvert_exporter": "python",
   "pygments_lexer": "ipython3",
   "version": "3.12.0"
  },
  "orig_nbformat": 4
 },
 "nbformat": 4,
 "nbformat_minor": 2
}
