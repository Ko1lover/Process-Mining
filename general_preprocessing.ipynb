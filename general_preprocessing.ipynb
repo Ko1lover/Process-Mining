{
 "cells": [
  {
   "attachments": {},
   "cell_type": "markdown",
   "metadata": {},
   "source": [
    "# Preprocessing file"
   ]
  },
  {
   "cell_type": "code",
   "execution_count": null,
   "metadata": {},
   "outputs": [],
   "source": [
    "import pandas as pd\n",
    "import pm4py as pm4\n",
    "import numpy as np\n",
    "import plotly.express as px\n",
    "from sklearn.preprocessing import LabelEncoder\n",
    "\n",
    "from scipy import stats"
   ]
  },
  {
   "cell_type": "code",
   "execution_count": null,
   "metadata": {},
   "outputs": [],
   "source": [
    "df_old = pm4.convert_to_dataframe(pm4.read.read_xes('BPI_Challenge_2012.xes.gz'))\n",
    "df_old.head()"
   ]
  },
  {
   "attachments": {},
   "cell_type": "markdown",
   "metadata": {},
   "source": [
    "# Goals of the current preprocessing step\n",
    "- Delete unfinished traces from the dataset\n",
    "- Delete traces which are too long by amount of events (Address that)\n",
    "- Delete traces which are too long by amount of time taken (Adrress events which took so long or time)\n",
    "- Delete duplicates\n",
    "- Delete intersecting events for train and test"
   ]
  },
  {
   "cell_type": "code",
   "execution_count": null,
   "metadata": {},
   "outputs": [],
   "source": [
    "#Make a list of all possible concept_names\n",
    "concept_names = ['A_ACCEPTED', 'A_ACTIVATED', 'A_APPROVED', 'A_CANCELLED', 'A_DECLINED', 'A_FINALIZED', 'A_PREACCEPTED', 'A_REGISTERED', 'O_ACCEPTED', 'O_CANCELLED', 'O_CREATED',\n",
    "                 'O_DECLINED', 'O_SELECTED', 'O_SENT', 'O_SENT_BACK', 'W_Afhandelen leads', 'W_Beoordelen fraude', 'W_Nabellen incomplete dossiers', 'W_Nabellen offertes',\n",
    "                   'W_Valideren aanvraag', 'W_Wijzigen contractgegevens']"
   ]
  },
  {
   "attachments": {},
   "cell_type": "markdown",
   "metadata": {},
   "source": [
    "# Remove duplicates"
   ]
  },
  {
   "cell_type": "code",
   "execution_count": null,
   "metadata": {},
   "outputs": [],
   "source": [
    "df_old = df_old.drop_duplicates(keep = 'first')"
   ]
  },
  {
   "attachments": {},
   "cell_type": "markdown",
   "metadata": {},
   "source": [
    "# Removing unfinished entries"
   ]
  },
  {
   "cell_type": "code",
   "execution_count": null,
   "metadata": {},
   "outputs": [],
   "source": [
    "df_old['remove'] = 0\n",
    "completed_dict = {}\n",
    "\n",
    "# Save the case:concept:name and the corresponding activity that have a complete lifecycle transition.\n",
    "\n",
    "for line in range(len(df_old)):\n",
    "    if df_old.loc[line, 'lifecycle:transition'] == 'COMPLETE' and df_old.loc[line, 'case:concept:name'] not in completed_dict.keys():\n",
    "        completed_dict[df_old.loc[line,'case:concept:name']] = [df_old.loc[line, 'concept:name']]\n",
    "    elif df_old.loc[line, 'lifecycle:transition'] == 'COMPLETE' and df_old.loc[line, 'case:concept:name'] in completed_dict.keys():\n",
    "        completed_dict[df_old.loc[line,'case:concept:name']] += [df_old.loc[line, 'concept:name']]\n",
    "\n",
    "# If the activity will be completed for this case, and this is a different transition than complete, save in the dataframe to remove this\n",
    "for line in range(len(df_old)):\n",
    "    if df_old.loc[line, 'lifecycle:transition'] != 'COMPLETE' and df_old.loc[line, 'case:concept:name'] in completed_dict.keys() and df_old.loc[line, 'concept:name'] in completed_dict[df_old.loc[line,'case:concept:name']]:\n",
    "        df_old.loc[line, 'remove'] = 1\n",
    "\n",
    "# Now remove the lines that are not the complete transition, but do have that for this activity.\n",
    "        \n",
    "df = df_old.loc[df_old['remove'] == 0].reset_index()\n",
    "df = df.drop(axis = 1, columns = 'remove')\n",
    "print(f'We lose {len(df_old) - len(df)} out of {len(df_old)} lines')"
   ]
  },
  {
   "attachments": {},
   "cell_type": "markdown",
   "metadata": {},
   "source": [
    "### Taking into consideration trace length that has at least 0.5% contribution in the dataset (losing less than 5% of the data) "
   ]
  },
  {
   "cell_type": "code",
   "execution_count": null,
   "metadata": {},
   "outputs": [],
   "source": [
    "percent_cases_length = df.groupby('case:concept:name').count().sort_values(by = 'index').groupby('index').count()\n",
    "percent_cases_length['percent'] = df.groupby('case:concept:name').count().sort_values(by = 'index').groupby('index').count()['concept:name'].apply(lambda x: round(100* x/sum(df.groupby('case:concept:name').count().sort_values(by = 'index').groupby('index').count()['concept:name']),2))\n",
    "print('Percent of data we loose:', round(percent_cases_length[percent_cases_length['percent']<0.5]['percent'].sum(),1))\n",
    "percent_cases_length = percent_cases_length[percent_cases_length['percent']>=0.5]\n",
    "percent_cases_length.head()"
   ]
  },
  {
   "cell_type": "code",
   "execution_count": null,
   "metadata": {},
   "outputs": [],
   "source": [
    "cases_length = df.groupby('case:concept:name').count().sort_values(by = 'index')\n",
    "work_id = cases_length[cases_length['index']<= percent_cases_length.index[-1]].reset_index()['case:concept:name'].to_list()"
   ]
  },
  {
   "cell_type": "code",
   "execution_count": null,
   "metadata": {},
   "outputs": [],
   "source": [
    "df = df[df['case:concept:name'].isin(work_id)]"
   ]
  },
  {
   "cell_type": "code",
   "execution_count": null,
   "metadata": {},
   "outputs": [],
   "source": [
    "df = df.drop(['index', 'org:resource', 'lifecycle:transition', 'case:REG_DATE', 'case:AMOUNT_REQ'], axis = 1)"
   ]
  },
  {
   "attachments": {},
   "cell_type": "markdown",
   "metadata": {},
   "source": [
    "### Saving cleaned up version of the data"
   ]
  },
  {
   "cell_type": "code",
   "execution_count": null,
   "metadata": {},
   "outputs": [],
   "source": [
    "df.to_csv('cleaned_data.csv', index = False)"
   ]
  }
 ],
 "metadata": {
  "kernelspec": {
   "display_name": "Python 3",
   "language": "python",
   "name": "python3"
  },
  "language_info": {
   "codemirror_mode": {
    "name": "ipython",
    "version": 3
   },
   "file_extension": ".py",
   "mimetype": "text/x-python",
   "name": "python",
   "nbconvert_exporter": "python",
   "pygments_lexer": "ipython3",
   "version": "3.12.0"
  },
  "orig_nbformat": 4
 },
 "nbformat": 4,
 "nbformat_minor": 2
}
